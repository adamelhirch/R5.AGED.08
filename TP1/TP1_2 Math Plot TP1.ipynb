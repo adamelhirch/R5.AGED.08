{
 "cells": [
  {
   "cell_type": "markdown",
   "metadata": {
    "id": "gSTJzhbhCKwU"
   },
   "source": [
    "\n",
    "# TP1 : Prise en main de Python \n",
    "## TP 1.2 Matplotlib\n",
    "\n",
    "**Graphiques de bases**<br>\n",
    "Le module **matplotlib** est un module qui permet de réaliser plusieurs types de représentations graphiques de fonctions ou de séries statistiques. Comme tous les modules, il faut le charger et plus précisément c'est un sous-module qui va nous intéresser <span style=\"color:blue\">pyplot</span>. Pour cela, nous n'allons pas charger toutes les fonctions comme d'habitude mais l'importer sous un nom plus court à utiliser. On utilisera donc import **matplotlib.pyplot as plt**\n",
    "\n",
    "Un [site intéressant pour python matplotlib](http://www.python-simple.com/python-matplotlib/matplotlib-intro.php)"
   ]
  },
  {
   "cell_type": "markdown",
   "metadata": {
    "id": "8Phv6mUyCtvH"
   },
   "source": [
    "## 1. Pyplot"
   ]
  },
  {
   "cell_type": "code",
   "execution_count": 1,
   "metadata": {
    "executionInfo": {
     "elapsed": 5,
     "status": "ok",
     "timestamp": 1689752076456,
     "user": {
      "displayName": "Mohand Boughanem",
      "userId": "11156155735843474973"
     },
     "user_tz": -120
    },
    "id": "B44Ms3yN-ekQ"
   },
   "outputs": [],
   "source": [
    "import numpy as np\n",
    "import matplotlib.pyplot as plt"
   ]
  },
  {
   "cell_type": "markdown",
   "metadata": {},
   "source": [
    "## Les fonctions de base\n",
    "- **plt.plot(liste_x,liste_y)** : Où **liste_x** est une liste de nombres $[x_1, x_2, ..., x_n]$ et **liste_y** une liste des **y** $[y_1, y_2, ..., y_n]$ correspondants $(x_i -> y_i)$ avec le même nombre d'éléments. Alors plt.plot(liste_x,liste_y) placera les points de coordonnées $(x_1,y_1)$, $(x_2,y_2), ..., (x_n, y_n)$ et les reliera de proche en proche par un segment. Voici un exemple où on relie les points (1;2), (3;1) et (4;6)\n",
    "- **plt.show()** : Pour afficher le résultat.\n"
   ]
  },
  {
   "cell_type": "code",
   "execution_count": null,
   "metadata": {},
   "outputs": [],
   "source": [
    "plt.plot( [ 0 , 1 , 2 , 3 ] , [ 3 , 4 , 1 , 2 ] )\n",
    "plt.show()"
   ]
  },
  {
   "cell_type": "markdown",
   "metadata": {
    "id": "zKc8md_oEbsC"
   },
   "source": [
    "### Graphiques simples\n",
    "La fonction **np.linspace(debut, fin, N)**: permet de créer une liste de **N** nombres qui commence à la valeur **debut** et s'arrête à la valeur **fin**, les nombres sont uniformément répartis. \n",
    "Elle permet d’obtenir un tableau Numpy de nombres espacés linéairement."
   ]
  },
  {
   "cell_type": "code",
   "execution_count": 2,
   "metadata": {
    "colab": {
     "base_uri": "https://localhost:8080/",
     "height": 430
    },
    "executionInfo": {
     "elapsed": 279,
     "status": "ok",
     "timestamp": 1689752079504,
     "user": {
      "displayName": "Mohand Boughanem",
      "userId": "11156155735843474973"
     },
     "user_tz": -120
    },
    "id": "59OfExBfCRhb",
    "outputId": "02423bdc-b1b8-4e56-ae04-2fbd69d51915"
   },
   "outputs": [
    {
     "data": {
      "image/png": "[encoded data removed]",
      "text/plain": [
       "<Figure size 640x480 with 1 Axes>"
      ]
     },
     "metadata": {},
     "output_type": "display_data"
    }
   ],
   "source": [
    "X = np.linspace(0, 2, 10) # créer une liste de 10 valeurs (x_i) allant de 0 à 2\n",
    "y = X**2\n",
    "\n",
    "plt.plot(X, y)\n",
    "plt.show()"
   ]
  },
  {
   "cell_type": "markdown",
   "metadata": {},
   "source": [
    "\n",
    "**On peut dessiner de belles fonctions**: "
   ]
  },
  {
   "cell_type": "code",
   "execution_count": null,
   "metadata": {},
   "outputs": [],
   "source": [
    "X=np.linspace(-2*np.pi, 2*np.pi, 1000) \n",
    "y=np.cos(X)\n",
    "plt.plot(X,y)\n",
    "plt.show( )"
   ]
  },
  {
   "cell_type": "markdown",
   "metadata": {
    "id": "p74Gt_7BEe_9"
   },
   "source": [
    "### Styles Graphiques\n",
    "Il existe beaucoup de styles a ajouter aux graphiques. Voici les plus importants a retenir :\n",
    "- **c** : couleur de la ligne\n",
    "- **lw** : epaisseur de la ligne (pour les graphiques plot)\n",
    "- **ls** : style de la ligne (pour les graphiques plot)\n",
    "- **size** : taille du point (pour les graphiques scatter)\n",
    "- **marker** : style de points (pour les graphiques scatter)\n",
    "- **alpha** : transparence du graphique\n",
    "\n"
   ]
  },
  {
   "cell_type": "code",
   "execution_count": null,
   "metadata": {
    "colab": {
     "base_uri": "https://localhost:8080/",
     "height": 430
    },
    "executionInfo": {
     "elapsed": 602,
     "status": "ok",
     "timestamp": 1689752133525,
     "user": {
      "displayName": "Mohand Boughanem",
      "userId": "11156155735843474973"
     },
     "user_tz": -120
    },
    "id": "g-ghI-dRFI37",
    "outputId": "146fdd0f-5aff-4060-cdae-274f764ceea9"
   },
   "outputs": [],
   "source": [
    "plt.plot(X, y, c='red', lw=4, ls='--', alpha=0.8)\n",
    "plt.show()"
   ]
  },
  {
   "cell_type": "markdown",
   "metadata": {
    "id": "xPhw27RlDD0_"
   },
   "source": [
    "## 2. Cycle de vie d'une figure\n",
    "Pour créer des figures proprement, en particulier, mettre plusieurs graphiques sur une figure, légender la figure, .., on doit suivre le cycle de vie suivant :\n",
    "1. **plt.figure**(figsize()) --> création d'une figure, figuresize (taille_horizontale, taille verticale)\n",
    "2. **plt.plot()**\n",
    "3. Extras (titre, axes, legendes)\n",
    "4. **plt.show()**\n",
    "5. **plt . grid ()** affiche le quadrillage"
   ]
  },
  {
   "cell_type": "code",
   "execution_count": null,
   "metadata": {
    "colab": {
     "base_uri": "https://localhost:8080/",
     "height": 472
    },
    "executionInfo": {
     "elapsed": 764,
     "status": "ok",
     "timestamp": 1689752221838,
     "user": {
      "displayName": "Mohand Boughanem",
      "userId": "11156155735843474973"
     },
     "user_tz": -120
    },
    "id": "jPN60ClNC0dt",
    "outputId": "49982223-c2f0-448c-c025-2aaec6a76c07"
   },
   "outputs": [],
   "source": [
    "X = np.linspace(0, 2, 10)\n",
    "\n",
    "plt.figure() # Création d'une figure\n",
    "plt.plot(X_a, X**2, label='quadratique') # premiere courbe\n",
    "plt.plot(X_a, X**3, label='cubique') # deuxieme courbe\n",
    "\n",
    "# Extra information\n",
    "plt.title('figure 1') # titre\n",
    "plt.xlabel('axe x') # axes\n",
    "plt.ylabel('axe y') # axes\n",
    "plt.legend() # legend\n",
    "\n",
    "plt.savefig('figure.png') # sauvegarde la figure dans le repertoire de travail\n",
    "plt.grid() # affiche le cadrillage\n",
    "plt.show() # affiche la figure"
   ]
  },
  {
   "cell_type": "markdown",
   "metadata": {
    "id": "QcLuPKDOFbQO"
   },
   "source": [
    "## 3. Subplots\n",
    "Les subplots sont un autre élément à ajouter pour créer plusieurs graphiques sur une même figure\n",
    "**subplot(nb lignes, nb colonnes, position du graphe)**"
   ]
  },
  {
   "cell_type": "code",
   "execution_count": null,
   "metadata": {
    "colab": {
     "base_uri": "https://localhost:8080/",
     "height": 451
    },
    "executionInfo": {
     "elapsed": 1940,
     "status": "ok",
     "timestamp": 1689752303726,
     "user": {
      "displayName": "Mohand Boughanem",
      "userId": "11156155735843474973"
     },
     "user_tz": -120
    },
    "id": "GH1S9QxjDM_g",
    "outputId": "cd131ce0-4250-4555-c8e6-c8370b8941ea"
   },
   "outputs": [],
   "source": [
    "X = np.linspace(0, 2, 10) # créer une liste de 10 valeurs (x_i) allant de 0 à 2\n",
    "y = X**2\n",
    "\n",
    "plt.subplot(2, 1, 1)\n",
    "plt.plot(X, y, c='red')\n",
    "plt.subplot(2, 1, 2)\n",
    "plt.plot(X, y, c='blue')"
   ]
  },
  {
   "cell_type": "markdown",
   "metadata": {},
   "source": [
    "# Exercices"
   ]
  },
  {
   "cell_type": "markdown",
   "metadata": {},
   "source": [
    "### Question 1 \n",
    "- Afficher (tracer) la courbe de la fonction $f(x)=\\exp(-x)$ pour des x variant dans [-10 et 10]"
   ]
  },
  {
   "cell_type": "code",
   "execution_count": null,
   "metadata": {},
   "outputs": [],
   "source": [
    "# Solution \n",
    "\n"
   ]
  },
  {
   "cell_type": "markdown",
   "metadata": {},
   "source": [
    "### Question 2 :\n",
    "Tracer les courbes des fonctions $f(x)=2*x+1$ et $g(x)=\\frac{1}{1+\\exp(-x)}$ sur une même figure"
   ]
  },
  {
   "cell_type": "code",
   "execution_count": null,
   "metadata": {},
   "outputs": [],
   "source": [
    "# Solution question 2\n",
    "\n"
   ]
  },
  {
   "cell_type": "markdown",
   "metadata": {
    "id": "UGHMaLFAGMzo"
   },
   "source": [
    "### Question 3\n",
    "Créez une fonction \"graphique\" qui permet de tracer sur une seule et même figure une série de graphiques issue d'un Dataset :\n",
    "- Lire les données du fichier houses.txt (les colonnes de 0 à 3 représentent : ['superficie','nb chambre','étage','age'] et la colonne 4 les prix \n",
    "- Afficher le prix en fonction des autres features (par exemple le prix en fonction de la supérficie, puis le prix en fonction de l'age, etc.), \n"
   ]
  },
  {
   "cell_type": "code",
   "execution_count": null,
   "metadata": {
    "colab": {
     "base_uri": "https://localhost:8080/"
    },
    "executionInfo": {
     "elapsed": 224,
     "status": "ok",
     "timestamp": 1689752347251,
     "user": {
      "displayName": "Mohand Boughanem",
      "userId": "11156155735843474973"
     },
     "user_tz": -120
    },
    "id": "nItlbgviGA3F",
    "outputId": "3339b339-4712-4830-b731-a07876fef0a1"
   },
   "outputs": [],
   "source": [
    "#lecture des données du fichier houses.txt\n",
    "data = np.loadtxt(\"../data/houses.txt\", delimiter=',', skiprows=1)\n",
    "X_ = data[:,:4]\n",
    "y_ = data[:,4]\n"
   ]
  },
  {
   "cell_type": "markdown",
   "metadata": {},
   "source": [
    "#### Tracer sous forme de lignes (plot) et de nuages de points ((scatter), le prix en fonction de la supérfcie ?\n"
   ]
  },
  {
   "cell_type": "code",
   "execution_count": null,
   "metadata": {},
   "outputs": [],
   "source": [
    "## tracer sous forme de nuages de points prix en fontion de la supérficie\n",
    "# ATTENTION prendre bien la colonne qui correspond à la supérficie et UNE SEULE COLONNE\n",
    "\n"
   ]
  },
  {
   "cell_type": "markdown",
   "metadata": {},
   "source": [
    "### Question 4:\n",
    "\n",
    "En utilisant subplot ecrire le code de la fonction qui permet de tracer chaque feature (colonne) en fonction du prix. \n",
    "On peut tracer plusieurs graphiques en même temps ?"
   ]
  },
  {
   "cell_type": "code",
   "execution_count": null,
   "metadata": {
    "executionInfo": {
     "elapsed": 217,
     "status": "ok",
     "timestamp": 1689752370903,
     "user": {
      "displayName": "Mohand Boughanem",
      "userId": "11156155735843474973"
     },
     "user_tz": -120
    },
    "id": "cmR2sJwKGe7g"
   },
   "outputs": [],
   "source": [
    "# SOLUTION\n",
    "def graphique(X, y):\n",
    "    \n",
    "    \n",
    "    plt.show()"
   ]
  },
  {
   "cell_type": "code",
   "execution_count": null,
   "metadata": {
    "colab": {
     "base_uri": "https://localhost:8080/",
     "height": 1000
    },
    "executionInfo": {
     "elapsed": 1547,
     "status": "ok",
     "timestamp": 1689752379514,
     "user": {
      "displayName": "Mohand Boughanem",
      "userId": "11156155735843474973"
     },
     "user_tz": -120
    },
    "id": "zj_pYg79G9XK",
    "outputId": "ff4c2d6c-ccbe-4fdf-a20a-e6bfe2ead7c7"
   },
   "outputs": [],
   "source": [
    "graphique(X_, y_)"
   ]
  },
  {
   "cell_type": "markdown",
   "metadata": {},
   "source": [
    "### Question 4\n",
    "Tracer l'histogramme représentant le nombre de logements par prix, Utilisez **(plt.hist(...)**\n"
   ]
  },
  {
   "cell_type": "code",
   "execution_count": null,
   "metadata": {
    "id": "cwwpHWoEG-0c"
   },
   "outputs": [],
   "source": [
    "# Solution \n",
    "# plot\n",
    "\n",
    "# Labels des X \"prix logts\" \n",
    "\n",
    "# Labels des y \"nombre de logts\" \n",
    "\n",
    "# Le titre de graphique histogramme \"nbre logts par prix\" \n"
   ]
  },
  {
   "cell_type": "markdown",
   "metadata": {},
   "source": [
    "Refaire le tracé (l'histogramme) avec les options suivantes : color ='yellow', edgecolor ='red' ?"
   ]
  },
  {
   "cell_type": "code",
   "execution_count": null,
   "metadata": {},
   "outputs": [],
   "source": []
  }
 ],
 "metadata": {
  "colab": {
   "provenance": [
    {
     "file_id": "https://github.com/MachineLearnia/Python-Machine-Learning/blob/master/14%20-%20Matplotlib%20(les%20Bases).ipynb",
     "timestamp": 1689751195024
    }
   ],
   "toc_visible": true
  },
  "kernelspec": {
   "display_name": "Python 3",
   "language": "python",
   "name": "python3"
  },
  "language_info": {
   "codemirror_mode": {
    "name": "ipython",
    "version": 3
   },
   "file_extension": ".py",
   "mimetype": "text/x-python",
   "name": "python",
   "nbconvert_exporter": "python",
   "pygments_lexer": "ipython3",
   "version": "3.12.7"
  }
 },
 "nbformat": 4,
 "nbformat_minor": 4
}
