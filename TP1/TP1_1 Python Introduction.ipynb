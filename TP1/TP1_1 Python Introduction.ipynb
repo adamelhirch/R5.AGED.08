{
 "cells": [
  {
   "cell_type": "markdown",
   "metadata": {
    "id": "so7fTWnC-FK3"
   },
   "source": [
    "# <center> BUT 3 : Techniques d'IA : introduction à l'apprentissage automatique </center>\n",
    "# TP1 : Prise en main Python\n",
    "## TP 1.1 - Modules de bases"
   ]
  },
  {
   "cell_type": "markdown",
   "metadata": {},
   "source": [
    "*** \n",
    "### Remarques valables pour les TPs :\n",
    "- #### Les TPs seront réalisés sur Anaconda -> Jupyter NoteBook (ou JupyterLab). Vous pourrez utiliser d'autres éditeurs. \n",
    "- <span style=\"color:green\"> <strong>Les cellules comportent des codes exécutables, des commentaires et des questions. \n",
    "- Les questions sont soit posées explicitement (Exercices, Questions) ou juste avec un point d'intérrogation  **?**  qui suit ce que l'on vous demande d'effectuer. <strong></span>\n",
    "***  "
   ]
  },
  {
   "cell_type": "markdown",
   "metadata": {
    "id": "IjaCtp3F-K0J",
    "tags": []
   },
   "source": [
    "#  Modules de bases\n",
    "\n",
    "Python contient un certain nombre de modules intégrés, qui offrent de nombreuses fonctions mathématiques(**Math**), statistiques (**statistics**), aléatoires (**random**)et **os**, manipulation de tableaux (**numpy**) tres utiles. Pour importer un module, il faut procéder comme-ci dessous :\n",
    "- **import module** (importe tout le module)\n",
    "- **import module as md** (donne un surnom au module)\n",
    "- **from module import fonction** (importe une fonction du module)\n",
    "\n",
    "# Rubriques\n",
    "\n",
    "- [ 1. Modules math et statistics ](#1)\n",
    "- [ 2. Module Random ](#2)\n",
    "- [ 3. Module Os et Glob ](#3)\n",
    "- [ 4. NumPy](#4)\n",
    "- [ Exercice ](#5)\n",
    "\n",
    "[site intéressant pour python](http://www.python-simple.com/)"
   ]
  },
  {
   "cell_type": "code",
   "execution_count": null,
   "metadata": {
    "id": "gmlP-nyNRksg"
   },
   "outputs": [],
   "source": [
    "import math\n",
    "import statistics\n",
    "import random\n",
    "import os\n",
    "import glob"
   ]
  },
  {
   "cell_type": "markdown",
   "metadata": {
    "id": "rAZM-GAFTIBW"
   },
   "source": [
    "Vous pouvez également créer vos propres modules et les importer dans d'autres projets. Un module n'est en fait qu'un simple fichier.py qui contient des fonctions et des classes\n"
   ]
  },
  {
   "cell_type": "markdown",
   "metadata": {
    "id": "1ETgM9qZRdw1"
   },
   "source": [
    "<a name=\"1\"></a>\n",
    "## 1. Modules <span style=\"color:blue\">maths et statistics</span>.  \n",
    "Les modules **math et statistics** sont en apparence très utiles, mais en data science, nous utiliserons leurs équivalents dans le package **NUMPY**. Il peut néanmoins être intéressant de voir les fonctions de bases.\n"
   ]
  },
  {
   "cell_type": "code",
   "execution_count": null,
   "metadata": {
    "colab": {
     "base_uri": "https://localhost:8080/",
     "height": 51
    },
    "id": "cGfVUkdVRE_y",
    "outputId": "edddb1de-d91e-4615-ac5a-65ae846602b1"
   },
   "outputs": [],
   "source": [
    "print(math.pi)\n",
    "print(math.cos(2*math.pi))"
   ]
  },
  {
   "cell_type": "code",
   "execution_count": null,
   "metadata": {
    "colab": {
     "base_uri": "https://localhost:8080/",
     "height": 51
    },
    "id": "XwFZrMVdTQyJ",
    "outputId": "992c6517-76de-4240-a043-1a3a199bcfd4"
   },
   "outputs": [],
   "source": [
    "liste = [1, 4, 6, 2, 5]\n",
    "\n",
    "print(statistics.mean(liste)) # moyenne de la liste\n",
    "print(statistics.variance(liste)) # variance de la liste"
   ]
  },
  {
   "cell_type": "markdown",
   "metadata": {
    "id": "AKGXkU5ZTvz8"
   },
   "source": [
    "<a name=\"2\"></a>\n",
    "## 2. Module <span style=\"color:blue\">Random</span>\n",
    "Le module random est utile pour générer automatiquement des données avec lesquelles on va jouer. Nous utiliserons plutôt son équivalent proposé par Numpy."
   ]
  },
  {
   "cell_type": "code",
   "execution_count": null,
   "metadata": {
    "colab": {
     "base_uri": "https://localhost:8080/",
     "height": 68
    },
    "id": "a2I21oZkTuHB",
    "outputId": "b086dd4c-5168-42db-804d-5e3c4fb2c154"
   },
   "outputs": [],
   "source": [
    "random.seed(0) # fixe le générateur aléatoire pour produire toujours le meme résultat\n",
    "print(random.choice(liste)) # choisit un élément au hasard dans la liste\n",
    "print(random.random()) # génére un nombre aléatoire entre 0 et 1\n",
    "print(random.randint(5, 10)) # génére un nombre entier aléatoire entre 5 et 10"
   ]
  },
  {
   "cell_type": "code",
   "execution_count": null,
   "metadata": {
    "colab": {
     "base_uri": "https://localhost:8080/",
     "height": 34
    },
    "id": "5MhdVoC3T-XV",
    "outputId": "01a1c3d3-120d-429a-e2d1-1f05347f7b34"
   },
   "outputs": [],
   "source": [
    "random.sample(range(100), 10) # retourne une liste de 10 nombres aléatoires entre 0 et 100"
   ]
  },
  {
   "cell_type": "code",
   "execution_count": null,
   "metadata": {
    "colab": {
     "base_uri": "https://localhost:8080/",
     "height": 51
    },
    "id": "cBrlkD-vU8tt",
    "outputId": "4af02fe1-a09f-4e50-f198-c6d28c26cf13"
   },
   "outputs": [],
   "source": [
    "print('liste de départ', liste)\n",
    "\n",
    "random.shuffle(liste) #mélange les éléments d'une liste\n",
    "\n",
    "print('liste mélangée', liste)"
   ]
  },
  {
   "cell_type": "markdown",
   "metadata": {
    "id": "5Xq4Z9LhVbrw"
   },
   "source": [
    "## 3. Modules <span style=\"color:blue\">OS et Glob</span>\n",
    "Les modules OS et GLob sont **essentiels** pour effectuer des opérations sur votre disque dur, comme ouvrir un fichier situé dans un certain répertoire de travail.\n"
   ]
  },
  {
   "cell_type": "code",
   "execution_count": null,
   "metadata": {
    "colab": {
     "base_uri": "https://localhost:8080/",
     "height": 34
    },
    "id": "4Ss3-GnoVNmq",
    "outputId": "ac19dc88-d04d-41a3-e7aa-ba085b465e26"
   },
   "outputs": [],
   "source": [
    "os.getcwd() # affiche le répertoire de travail actuel"
   ]
  },
  {
   "cell_type": "code",
   "execution_count": null,
   "metadata": {
    "colab": {
     "base_uri": "https://localhost:8080/",
     "height": 34
    },
    "id": "GYg0__LiViYP",
    "outputId": "14b6e24a-1765-410d-e636-15184872ebbd"
   },
   "outputs": [],
   "source": [
    "print(glob.glob('*')) # contenu du repertoire de travail actuel"
   ]
  },
  {
   "cell_type": "markdown",
   "metadata": {
    "id": "lCybNqxS-gX7"
   },
   "source": [
    "## 4. Module <span style=\"color:blue\">numpy</span>\n",
    "\n",
    "NumPy est un module très utile dans pour la manipulation de données sous formes de matrices. Cette séance de TP vise à vous donner quelques connaissances de base nécessaires mais elle est loin de couvrir toutes les fonctionnalités de cette librairie. \n",
    "Pour aller plus loin, vous êtes invités à regarder les documentations en ligne."
   ]
  },
  {
   "cell_type": "markdown",
   "metadata": {},
   "source": [
    " <span style=\"color:blue\">**4.1 Numpy : Générateurs de tableaux ndarray**</span>\n",
    "- générateur par défaut : **ndarray()**\n",
    "- générateur 1D : **np.linspace** et **np.arange()** Equivalent à range()\n",
    "- générateur ND : **np.zeros()**, **np.ones()**, **np.random.randn()** (ce sont les plus utiles)"
   ]
  },
  {
   "cell_type": "code",
   "execution_count": null,
   "metadata": {
    "id": "6RUsBfPXEJW8"
   },
   "outputs": [],
   "source": [
    "## importation de numpy\n",
    "import numpy as np"
   ]
  },
  {
   "cell_type": "code",
   "execution_count": null,
   "metadata": {},
   "outputs": [],
   "source": [
    "A = np.array([1, 2, 3]) # générateur par défaut, qui permet de convertir des listes (ou autres objets) en tableau ndarray\n",
    "A = np.zeros((2, 3)) # tableau de 0 aux dimensions 2x3\n",
    "B = np.ones((2, 3)) # tableau de 1 aux dimensions 2x3\n",
    "\n",
    "C = np.random.randn(2, 3) # tableau aléatoire (distribution normale) aux dimensions 2x3\n",
    "D = np.random.rand(2, 3) # tableau aléatoire (distribution uniforme)\n",
    " \n",
    "E = np.random.randint(0, 10, [2, 3]) # tableau d'entiers aléatoires de 0 a 10 et de dimension 2x3"
   ]
  },
  {
   "cell_type": "markdown",
   "metadata": {},
   "source": [
    "### <span style=\"color:blue\">4.2 Attributs importants</span>\n",
    "- size\n",
    "- shape\n",
    "\n"
   ]
  },
  {
   "cell_type": "code",
   "execution_count": null,
   "metadata": {},
   "outputs": [],
   "source": [
    "A = np.zeros((2, 3)) # création d'un tableau de shape (2, 3)\n",
    " \n",
    "print(A.size) # le nombre d'éléments dans le tableau A\n",
    "print(A.shape) # les dimensions du tableau A (sous forme de Tuple)\n",
    " \n",
    "print(type(A.shape)) # voici la preuve que la shape est un tuple\n",
    " \n",
    "print(A.shape[0]) # le nombre d'éléments dans la premiere dimension de A"
   ]
  },
  {
   "cell_type": "markdown",
   "metadata": {},
   "source": [
    "<span style=\"color:blue\">**4.3 Méthodes importantes**</span>.\n",
    "- reshape() : pour redimensionner un tableau\n",
    "- ravel() : pour applatir un tableau (qu'il ne fasse plus qu'une dimension)\n",
    "- squeeze() : quand une dimension est égale a 1, cette dimension disparait\n",
    "- concatenate() : assemble 2 tableaux ensemble selon un axes (existe aussi en hstack et vstack)<br>\n",
    "    - hstack(), concaténez les tableaux  selon les colonnes\n",
    "    - vstack(), concaténez les tableaux  selon les lignes"
   ]
  },
  {
   "cell_type": "code",
   "execution_count": null,
   "metadata": {},
   "outputs": [],
   "source": [
    "A = np.zeros((2, 3)) # création d'un tableau de shape (2, 3)\n",
    "print('A original', A)\n",
    "#A = A.reshape((3, 2)) # redimensionne le tableau A (3 lignes, 2 colonnes)\n",
    "print(\"A reshaped\",A)\n",
    "A.ravel() # Aplatit le tableau A (une seule dimension)\n",
    "print('A applatit',A.ravel())\n"
   ]
  },
  {
   "cell_type": "code",
   "execution_count": null,
   "metadata": {},
   "outputs": [],
   "source": [
    "A = np.zeros((2, 3)) # création d'un tableau de shape (2, 3)\n",
    "B = np.ones((2, 3)) # création d'un tableau de shape (2, 3)\n",
    "\n",
    "np.concatenate((A, B), axis=0) # axe 0 : équivalent de np.vstack((A, B))"
   ]
  },
  {
   "cell_type": "code",
   "execution_count": null,
   "metadata": {},
   "outputs": [],
   "source": [
    "np.concatenate((A, B), axis=1) # axe 1 : équivalent de np.hstack((A, B))"
   ]
  },
  {
   "cell_type": "markdown",
   "metadata": {},
   "source": [
    "<a name=\"\"></a>\n",
    "### <span style=\"color:blue\"> 4.3 Opérations sur les vecteurs</span>. \n",
    "<a name=\"toc_40015_3.4.1\"></a>\n",
    "\n",
    "\n",
    "\n"
   ]
  },
  {
   "cell_type": "code",
   "execution_count": null,
   "metadata": {},
   "outputs": [],
   "source": [
    "# Pour acceder a la ligne 0, colonne 1\n",
    "A[0, 1] "
   ]
  },
  {
   "cell_type": "markdown",
   "metadata": {},
   "source": [
    "#### 4.3.1 Indexation (Indexing) et Découpage en tranche (Slicing)\n",
    "\n",
    "\n",
    "Il est possible d'accéder à des segments de vecteurs par le biais de l'indexation (**indexing**) eo par tranches (**Slincing**). NumPy fournit un ensemble de moyens pour cela. \n",
    "Nous n'explorerons ici que les bases nécessaires au cours. Référez-vous à [Slicing and Indexing] (https://NumPy.org/doc/stable/reference/arrays.indexing.html) pour plus de détails.  \n",
    "\n",
    "**L'indexation (Indexing)** consiste à faire référence à *un élément* d'un tableau en fonction de sa position dans le tableau.  \n",
    "\n",
    "**Le découpage (Slicing)** consiste à obtenir un *sous-ensemble* d'éléments d'un tableau en fonction de leur index.  On crée un tableau d'indices en utilisant un ensemble de trois valeurs (start:stop:step).\n",
    "\n",
    "NumPy commence l'indexation à zéro, donc le 3ème élément d'un vecteur $\\mathbf{a}$ est `a[2]`.\n",
    "\n"
   ]
  },
  {
   "cell_type": "code",
   "execution_count": null,
   "metadata": {},
   "outputs": [],
   "source": [
    "#vector indexing operations on 1-D vectors\n",
    "a = np.arange(10)\n",
    "print(a)\n",
    "\n",
    "#access an element\n",
    "print(f\"a[2].shape: {a[2].shape} a[2]  = {a[2]}, Accessing an element returns a scalar\")\n",
    "\n",
    "# access the last element, negative indexes count from the end\n",
    "print(f\"a[-1] = {a[-1]}\")"
   ]
  },
  {
   "cell_type": "code",
   "execution_count": null,
   "metadata": {},
   "outputs": [],
   "source": [
    "#vector Slicing operations\n",
    "a = np.arange(10)\n",
    "print(f\"a         = {a}\")\n",
    "\n",
    "#access 5 consecutive elements (start:stop:step)\n",
    "c = a[2:7:1];     print(\"a[2:7:1] = \", c)\n",
    "\n",
    "# access 3 elements separated by two \n",
    "c = a[2:7:2];     print(\"a[2:7:2] = \", c)\n",
    "\n",
    "# access all elements index 3 and above\n",
    "c = a[3:];        print(\"a[3:]    = \", c)\n",
    "\n",
    "# access all elements below index 3\n",
    "c = a[:3];        print(\"a[:3]    = \", c)\n",
    "\n",
    "# access all elements\n",
    "c = a[:];         print(\"a[:]     = \", c)"
   ]
  },
  {
   "cell_type": "markdown",
   "metadata": {},
   "source": [
    "#### 4.3.1 Opérations matricielles \n",
    "- Opération sur un même vecteur"
   ]
  },
  {
   "cell_type": "code",
   "execution_count": null,
   "metadata": {},
   "outputs": [],
   "source": [
    "A = np.array([[1, 2, 3], [4, 5, 6]])\n",
    "print(A.shape)\n",
    "print(\"Sum de tous les éléments \", A.sum()) # effectue la somme de tous les éléments du tableau\n",
    "print(\"Sum des colonnes \", A.sum(axis=0)) # effectue la somme des colonnes (somme sur éléments des les lignes)\n",
    "print(\"Sum des lignes \", A.sum(axis=1)) # effectue la somme des lignes (somme sur les éléments des colonnes)\n",
    "print(\"Acumu \", A.cumsum(axis=0)) # effectue la somme cumulée par colonne (axis=0/ligne axis=1)\n",
    " \n",
    "print('A prod', A.prod()) # effectue le produit\n",
    "\n",
    "print(A.cumprod()) # effectue le produit cumulé\n",
    " \n",
    "print(A.min()) # trouve le minimum du tableau\n",
    "print(A.max()) # trouve le maximum du tableau\n",
    " \n",
    "print(A.mean()) # calcule la moyenne\n",
    "print(A.std()) # calcule l'ecart type,\n",
    "print(A.var()) # calcule la variance"
   ]
  },
  {
   "cell_type": "markdown",
   "metadata": {},
   "source": [
    "- Somme de vecteurs\n",
    "$$ \\mathbf{a} + \\mathbf{b} = \\sum_{i=0}^{n-1} a_i + b_i $$"
   ]
  },
  {
   "cell_type": "code",
   "execution_count": 3,
   "metadata": {},
   "outputs": [
    {
     "ename": "NameError",
     "evalue": "name 'np' is not defined",
     "output_type": "error",
     "traceback": [
      "\u001b[31m---------------------------------------------------------------------------\u001b[39m",
      "\u001b[31mNameError\u001b[39m                                 Traceback (most recent call last)",
      "\u001b[36mCell\u001b[39m\u001b[36m \u001b[39m\u001b[32mIn[3]\u001b[39m\u001b[32m, line 1\u001b[39m\n\u001b[32m----> \u001b[39m\u001b[32m1\u001b[39m a = \u001b[43mnp\u001b[49m.array([ \u001b[32m1\u001b[39m, \u001b[32m2\u001b[39m, \u001b[32m3\u001b[39m, \u001b[32m4\u001b[39m])\n\u001b[32m      2\u001b[39m b = np.array([-\u001b[32m1\u001b[39m,-\u001b[32m2\u001b[39m, \u001b[32m3\u001b[39m, \u001b[32m4\u001b[39m])\n\u001b[32m      3\u001b[39m \u001b[38;5;28mprint\u001b[39m(\u001b[33mf\u001b[39m\u001b[33m\"\u001b[39m\u001b[33mElement wise opération : \u001b[39m\u001b[38;5;132;01m{\u001b[39;00ma\u001b[38;5;250m \u001b[39m+\u001b[38;5;250m \u001b[39mb\u001b[38;5;132;01m}\u001b[39;00m\u001b[33m\"\u001b[39m)\n",
      "\u001b[31mNameError\u001b[39m: name 'np' is not defined"
     ]
    }
   ],
   "source": [
    "a = np.array([ 1, 2, 3, 4])\n",
    "b = np.array([-1,-2, 3, 4])\n",
    "print(f\"Element wise opération : {a + b}\")\n"
   ]
  },
  {
   "cell_type": "markdown",
   "metadata": {},
   "source": [
    "- Multiplication d'une matrice par un scalaire"
   ]
  },
  {
   "cell_type": "code",
   "execution_count": 2,
   "metadata": {},
   "outputs": [
    {
     "ename": "NameError",
     "evalue": "name 'np' is not defined",
     "output_type": "error",
     "traceback": [
      "\u001b[31m---------------------------------------------------------------------------\u001b[39m",
      "\u001b[31mNameError\u001b[39m                                 Traceback (most recent call last)",
      "\u001b[36mCell\u001b[39m\u001b[36m \u001b[39m\u001b[32mIn[2]\u001b[39m\u001b[32m, line 1\u001b[39m\n\u001b[32m----> \u001b[39m\u001b[32m1\u001b[39m a = \u001b[43mnp\u001b[49m.array([\u001b[32m1\u001b[39m, \u001b[32m2\u001b[39m, \u001b[32m3\u001b[39m, \u001b[32m4\u001b[39m])\n\u001b[32m      3\u001b[39m \u001b[38;5;66;03m# multiply a by a scalar\u001b[39;00m\n\u001b[32m      4\u001b[39m b = \u001b[32m5\u001b[39m * a \n",
      "\u001b[31mNameError\u001b[39m: name 'np' is not defined"
     ]
    }
   ],
   "source": [
    "a = np.array([1, 2, 3, 4])\n",
    "\n",
    "# multiply a by a scalar\n",
    "b = 5 * a \n",
    "print(f\"b = 5 * a : {b}\")\n"
   ]
  },
  {
   "cell_type": "markdown",
   "metadata": {},
   "source": [
    "- Le dot product \n",
    "<img src=\"../images/C1_W2_Lab04_dot_notrans.gif\" width=600> "
   ]
  },
  {
   "cell_type": "code",
   "execution_count": null,
   "metadata": {},
   "outputs": [],
   "source": [
    "print(a.dot(b)) # produit matriciel A.B\n"
   ]
  },
  {
   "cell_type": "code",
   "execution_count": null,
   "metadata": {},
   "outputs": [],
   "source": [
    "# calcul le déterminant d'une matrice\n",
    "A = np.random.randint(0, 10, [3, 3])\n",
    "\n",
    "print('det=', np.linalg.det(A)) # calcule le determinant de A\n",
    "print('inv A:\\n', np.linalg.inv(A)) # calcul l'inverse de A\n",
    "\n"
   ]
  },
  {
   "cell_type": "code",
   "execution_count": null,
   "metadata": {},
   "outputs": [],
   "source": [
    "# calcul les valeurs propres et le vecteur propre\n",
    "val, vec = np.linalg.eig(A)\n",
    "\n",
    "print('valeur propre:\\n', val) # valeur propre\n",
    "print('vecteur propre:\\n', vec) # vecteur propre"
   ]
  },
  {
   "cell_type": "markdown",
   "metadata": {
    "tags": []
   },
   "source": [
    "# Exercices \n"
   ]
  },
  {
   "cell_type": "markdown",
   "metadata": {},
   "source": [
    "### Question 1 :\n",
    "Créer un tableau d'entiers à deux lignes et deux colonnes. La première ligne contient uniquement des zéros et la seconde uniquement des 1. \n",
    "Vérifiez ses dimensions et son type"
   ]
  },
  {
   "cell_type": "code",
   "execution_count": null,
   "metadata": {},
   "outputs": [],
   "source": [
    "# Solution \n",
    "\n"
   ]
  },
  {
   "cell_type": "markdown",
   "metadata": {},
   "source": [
    "### Question 2 \n",
    "Créer deux tableaux de 3X4 le premier contient que des zéros un deuxième contenant que des 1."
   ]
  },
  {
   "cell_type": "code",
   "execution_count": null,
   "metadata": {},
   "outputs": [],
   "source": [
    "## Créer un tableau de 3 lignes et 4 colonnes rempli de zéros\n",
    "A_zeros = \n",
    "print(A_zeros)\n",
    "\n",
    "\n",
    "# Créer un tableau de 3 lignes et 4 colonnes rempli de uns\n",
    "A_un = \n",
    "\n",
    "# array([[ 1.,  1.,  1.,  1.],\n",
    "#        [ 1.,  1.,  1.,  1.],\n",
    "#        [ 1.,  1.,  1.,  1.]])\n",
    "\n",
    "identity = np.eye(5)\n",
    "print(\"diagonale à 1 \", identity)\n",
    "\n",
    "# ...\n",
    "tni2d = np.empty((3,4))\n",
    "print(\"Que des 1\", tni2d)\n",
    "# ..."
   ]
  },
  {
   "cell_type": "markdown",
   "metadata": {},
   "source": [
    "### Questions 3 \n",
    "Ecrire la fonction qui :\n",
    "- retourne une matrice aléatoire de dmension (m, n+1)\n",
    "- avec une colonne biais (remplie de \"1\") tout à droite"
   ]
  },
  {
   "cell_type": "code",
   "execution_count": null,
   "metadata": {},
   "outputs": [],
   "source": [
    "# SOLUTION\n",
    "def initialisation(m, n):\n",
    "    # m : nombre de lignes\n",
    "    # n : nombre de colonnes\n",
    "    # retourne une matrice aléatoire (m, n+1)\n",
    "    # avec une colonne biais (remplie de \"1\") tout a droite\n",
    "    \n",
    "    \n",
    "#Appel de la fnction\n",
    "initialisation(3, 4)\n"
   ]
  },
  {
   "cell_type": "markdown",
   "metadata": {
    "tags": []
   },
   "source": [
    "### Questions 4 \n",
    "- Lire le fichier de données houses.txt (il est dans le répértoire data, prendre le fichier .txt (le petit), le mettre dans un tableau de type numpy. (**np.loadtxt(\"../data/houses.txt\", delimiter=',', skiprows=1)**\n",
    "- Afficher les données (les 5 premières lignes)\n",
    "- Afficher les dimensions du tableau \n",
    "    - nombre de lignes et colonnes\n",
    "    - nombre de lignes (seul)\n",
    "    - nombre de colonnes (seul)\n",
    "    - nombre  d'éléments\n",
    "    \n",
    "- La dernière colonne du tableau représente les Y (le prix) et les premières colonnes sont les features (X). Récupérerez chacune de ces données dans une structure spécifique, X_train pour les features et Y_train pour les étiquettes (target). \n",
    "- Affichier les 4 premières lignes de X_train et Y_train.\n",
    "- Afficher la dernière colonne de X_train\n"
   ]
  },
  {
   "cell_type": "code",
   "execution_count": null,
   "metadata": {},
   "outputs": [],
   "source": [
    "# lecture du fichier texte.\n",
    "\n",
    "data = np.loadtxt(\"../data/houses.txt\", delimiter=',', skiprows=1)\n",
    "# récupérer toutes les lignes data [:,:4] et les 4 premières colonnes data [ ..,:4]\n",
    "\n"
   ]
  },
  {
   "cell_type": "markdown",
   "metadata": {},
   "source": [
    "Quel est le rôle de :\n",
    "    - delimiter :\n",
    "    - skiprows :"
   ]
  },
  {
   "cell_type": "markdown",
   "metadata": {},
   "source": [
    "Ecrire le code python qui permet de : \n",
    "- Lire le fichier Titanic.csv \n",
    "- Séparer les données (features) des labels. Mettre les données dans X_train et les labels dans Y_train.\n",
    "- Garder uniquement les features suivants : Pclass, Sex, Age, Fare\n",
    "\n",
    "En apprentissage machines seules les valeurs numériques sont autorisées. Ecrire le code python qui permet de convertir les données non numériques en données numériques. \n",
    "\n",
    "\n"
   ]
  },
  {
   "cell_type": "markdown",
   "metadata": {},
   "source": []
  }
 ],
 "metadata": {
  "colab": {
   "provenance": [
    {
     "file_id": "https://github.com/MachineLearnia/Python-tutoriel/blob/master/08%20-%20Modules%20de%20Bases.ipynb",
     "timestamp": 1689750153090
    }
   ],
   "toc_visible": true
  },
  "kernelspec": {
   "display_name": "Python 3",
   "language": "python",
   "name": "python3"
  },
  "language_info": {
   "codemirror_mode": {
    "name": "ipython",
    "version": 3
   },
   "file_extension": ".py",
   "mimetype": "text/x-python",
   "name": "python",
   "nbconvert_exporter": "python",
   "pygments_lexer": "ipython3",
   "version": "3.12.7"
  }
 },
 "nbformat": 4,
 "nbformat_minor": 4
}
