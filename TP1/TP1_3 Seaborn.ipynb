{
 "cells": [
  {
   "cell_type": "markdown",
   "metadata": {
    "colab_type": "text",
    "id": "n_sAxegmac2O",
    "tags": []
   },
   "source": [
    "# TP 1 : Prise en main de Python\n",
    "## TP 1.3 Visualisation de Données avec Seaborn\n",
    "\n",
    "Seaborn est un module (au dessus de matplotlib)  qui offre plusieurs fonctions pour visualiser les données. La visualisation globale des données est importante pour avoir une première idée des relations (corrélations) potentielles entre les données que l'on manupule.. Nous reviendrons sur ce point dans les prochains TP.\n",
    "\n",
    "L'objectif du TP est de montrer des exemples de fonctions seaborn en particulier  pairplot, catplot, et heatmap..\n"
   ]
  },
  {
   "cell_type": "code",
   "execution_count": null,
   "metadata": {
    "colab": {},
    "colab_type": "code",
    "id": "TRBvMfEtabAl",
    "tags": []
   },
   "outputs": [],
   "source": [
    "import numpy as np\n",
    "import matplotlib.pyplot as plt\n",
    "import pandas as pd\n",
    "import seaborn as sns"
   ]
  },
  {
   "cell_type": "markdown",
   "metadata": {},
   "source": [
    "#### Le code ci-dessous reprend un Dataset (iris) sur lequel vous avez déjà travaillé en première année.\n"
   ]
  },
  {
   "cell_type": "code",
   "execution_count": null,
   "metadata": {
    "colab": {
     "base_uri": "https://localhost:8080/",
     "height": 204
    },
    "colab_type": "code",
    "id": "RiQVjflwaw9r",
    "outputId": "bd16233c-7c2e-417d-e28d-feb22fed89d2",
    "tags": []
   },
   "outputs": [],
   "source": [
    "iris = sns.load_dataset('iris')\n",
    "iris.head()"
   ]
  },
  {
   "cell_type": "markdown",
   "metadata": {
    "colab_type": "text",
    "id": "jrEV6aIFbnAI"
   },
   "source": [
    "## 1. Pairplot : visualiser les relations par paires d'un dataframe"
   ]
  },
  {
   "cell_type": "code",
   "execution_count": null,
   "metadata": {
    "colab": {
     "base_uri": "https://localhost:8080/",
     "height": 765
    },
    "colab_type": "code",
    "id": "3K7npmSbbOcf",
    "outputId": "32062638-2667-4e0e-b592-d9e21bbeb336",
    "tags": []
   },
   "outputs": [],
   "source": [
    "## visualiser les données en fonction des espèces (species)\n",
    "sns.pairplot(iris, hue='species')"
   ]
  },
  {
   "cell_type": "markdown",
   "metadata": {
    "colab_type": "text",
    "id": "zuCNYJ6_btlZ"
   },
   "source": [
    "## 2. Catplot : visualiser des catégories"
   ]
  },
  {
   "cell_type": "code",
   "execution_count": null,
   "metadata": {
    "colab": {
     "base_uri": "https://localhost:8080/",
     "height": 204
    },
    "colab_type": "code",
    "id": "zT99eFnnbSp4",
    "outputId": "dd9f4421-b85f-4f7e-99d6-a7d5ace29db5",
    "tags": []
   },
   "outputs": [],
   "source": [
    "titanic = sns.load_dataset('titanic')\n",
    "data=titanic[['survived', 'pclass', 'sex', 'age']]\n",
    "data.head()"
   ]
  },
  {
   "cell_type": "code",
   "execution_count": null,
   "metadata": {
    "colab": {
     "base_uri": "https://localhost:8080/",
     "height": 386
    },
    "colab_type": "code",
    "id": "nVJRemEnblQp",
    "outputId": "d427110a-1ec7-4e24-cb43-f7a2ff5aa63e",
    "tags": []
   },
   "outputs": [],
   "source": [
    "sns.catplot(x='survived', y='age', data=data, hue='sex')"
   ]
  },
  {
   "cell_type": "code",
   "execution_count": null,
   "metadata": {
    "colab": {
     "base_uri": "https://localhost:8080/",
     "height": 503
    },
    "colab_type": "code",
    "id": "f1Hbt44Cb25i",
    "outputId": "54ed25cc-055b-4789-ed94-f6c1032de894",
    "tags": []
   },
   "outputs": [],
   "source": [
    "plt.figure(figsize=(32, 8))\n",
    "sns.boxplot(x='age', y='fare', data=titanic, hue='sex')"
   ]
  },
  {
   "cell_type": "markdown",
   "metadata": {
    "colab_type": "text",
    "id": "I-R-AiLMb8OT"
   },
   "source": [
    "## 3. Heatmap : TOP des fonctions de visualisation. \n",
    "Heatmap permet de visualiser sous forme d'une matrice (table de contingence) les corrélations entre les différents données (colonnes) d'un Dataset"
   ]
  },
  {
   "cell_type": "code",
   "execution_count": null,
   "metadata": {
    "colab": {
     "base_uri": "https://localhost:8080/",
     "height": 286
    },
    "colab_type": "code",
    "id": "u-HpWx1LcCKf",
    "outputId": "651f522f-8c99-451e-cf75-3b6be9a9a242",
    "tags": []
   },
   "outputs": [],
   "source": [
    "sns.heatmap(data.corr())"
   ]
  },
  {
   "cell_type": "markdown",
   "metadata": {
    "colab": {},
    "colab_type": "code",
    "id": "mhtUTz2acDgQ"
   },
   "source": [
    "## Exercices"
   ]
  },
  {
   "cell_type": "markdown",
   "metadata": {},
   "source": [
    "L'exercice porte sur les données du fichier houses.txt. \n",
    "Ecrire le code qui permet de visualiser  \n",
    "- les données par paires en fonction du prix \n",
    "- les corrélations entre les différentes colonnes\n",
    "\n",
    "Rappel : les colonnes de 0 à 3 représentent : ['superficie','nb pièces','étage','age'] et la colonne 4 les prix "
   ]
  },
  {
   "cell_type": "code",
   "execution_count": null,
   "metadata": {
    "tags": []
   },
   "outputs": [],
   "source": [
    "data = pd.read_csv(\"../data/houses.txt\", delimiter=',', header=None)\n",
    "data.columns = ['Superf.','Nb pièces','Etage','age', 'prix']\n",
    "data.head()"
   ]
  },
  {
   "cell_type": "code",
   "execution_count": null,
   "metadata": {
    "tags": []
   },
   "outputs": [],
   "source": [
    "# données par paires\n",
    "\n"
   ]
  },
  {
   "cell_type": "code",
   "execution_count": null,
   "metadata": {
    "tags": []
   },
   "outputs": [],
   "source": [
    "# Corrélations\n"
   ]
  }
 ],
 "metadata": {
  "colab": {
   "authorship_tag": "ABX9TyNhyjI0zC/d0dD4shnfOFLA",
   "include_colab_link": true,
   "name": "Untitled15.ipynb",
   "provenance": []
  },
  "kernelspec": {
   "display_name": "Python 3 (ipykernel)",
   "language": "python",
   "name": "python3"
  },
  "language_info": {
   "codemirror_mode": {
    "name": "ipython",
    "version": 3
   },
   "file_extension": ".py",
   "mimetype": "text/x-python",
   "name": "python",
   "nbconvert_exporter": "python",
   "pygments_lexer": "ipython3",
   "version": "3.11.4"
  }
 },
 "nbformat": 4,
 "nbformat_minor": 4
}
