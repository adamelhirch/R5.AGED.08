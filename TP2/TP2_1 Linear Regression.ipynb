{
 "cells": [
  {
   "cell_type": "markdown",
   "id": "g6eSwMc9gh5A",
   "metadata": {
    "id": "g6eSwMc9gh5A",
    "pycharm": {
     "name": "#%% md\n"
    }
   },
   "source": [
    "#  TP2- Régression linéaire \"from scratch\"\n",
    "# 2.1- Modélisation \n"
   ]
  },
  {
   "cell_type": "markdown",
   "id": "6fc25815-4282-4b1f-8e8e-0491b8c83ed5",
   "metadata": {},
   "source": [
    "*** \n",
    "### Remarques valables pour les TPs :\n",
    "<span style=\"color:green\"> <strong>Les cellules comportent des codes exécutables, des commentaires et des questions. \n",
    "Les questions sont soit posées explicitement (Exercices, Questions) ou juste avec un point d'intérrogation  **?**  qui suit ce que l'on vous demande d'effectuer. <strong></span>\n",
    "***  "
   ]
  },
  {
   "cell_type": "markdown",
   "id": "6YsmpVV0gh5D",
   "metadata": {
    "id": "6YsmpVV0gh5D",
    "pycharm": {
     "name": "#%% md\n"
    }
   },
   "source": [
    "## Objectifs: \n",
    "- Apprendre à construite et à implémenter les modèles simples $f_{w,b}$ \n",
    "- On commence simple avec la regression linéaire \n"
   ]
  },
  {
   "cell_type": "markdown",
   "id": "fb4b8836",
   "metadata": {},
   "source": [
    "# Notation\n",
    "Les notations que nous allons utiliser<br>\n",
    "\n",
    "| Notation     | Description                                                  | Python (if applicable)  | \n",
    "| :------------| :------------------------------------------------------------ | :---------------------- |\n",
    "| $a$          | scalaire  simple (pas en gras)                                |                         | \n",
    "| $\\mathbf{a}$ | vecteur, en gras                                              |                         | \n",
    "| **Régression**       ||| \n",
    "| $\\mathbf{x}$ |   Un exemple de Trainig par exemple - supérficie (1000 ))  | `x_train` |\n",
    "| $\\mathbf{y}$ |   Les labels (Etiquettes) (target) (par exemple le prix (1000s euros)). | `y_train`  |\n",
    "| $x^{(i)}$, $y^{(i)}$ | $i_{ème}$ un exemple d'entrainement(Training Example) | `x_i`, `y_i`|\n",
    "| $m$ |  nombre d'exemples (training examples) |`m` |\n",
    "| $w$  | paramètre                                  | `w`    |\n",
    "| $b$  | paramètre: le biais                                    | `b`      |\n",
    "| $f_{w,b}(x^{(i)})$ | le résultat prédit par $f_{w,b}(x^{(i)}) = wx^{(i)}+b$  pour l'exemple $x_i$ |`f_wb` |\n",
    "\n"
   ]
  },
  {
   "cell_type": "markdown",
   "id": "vz9R6aYfgh5E",
   "metadata": {
    "id": "vz9R6aYfgh5E",
    "pycharm": {
     "name": "#%% md\n"
    }
   },
   "source": [
    "## Les modules (librairies)  \n",
    "Nous allons exploter principaleement les deux librairies ci-dessous\n",
    "- NumPy, \n",
    "- Matplotlib, "
   ]
  },
  {
   "cell_type": "code",
   "execution_count": 2,
   "id": "wf1T66yIgh5J",
   "metadata": {
    "id": "wf1T66yIgh5J",
    "pycharm": {
     "name": "#%%\n"
    }
   },
   "outputs": [],
   "source": [
    "import numpy as np\n",
    "import matplotlib.pyplot as plt"
   ]
  },
  {
   "cell_type": "markdown",
   "id": "xG02IBvegh5L",
   "metadata": {
    "id": "xG02IBvegh5L",
    "pycharm": {
     "name": "#%% md\n"
    }
   },
   "source": [
    "<a name=\"1\"></a>\n",
    "## 1- Le Dataset \n",
    "[//]: <> (<img align=\"left\" src=\"./images/C1_W1_L3_S1_trainingdata.png\"   style=\" width:380px; padding: 10px;  \" />)\n",
    "\n",
    "Nous allons utiliser l'exemple de  prédiction du prix des logements.  \n",
    "dans ce TP on utilisera un ensemble de données simple avec seulement deux exemples - une maison de 100 $m^2$  vendue pour 300 000$€$ et une maison de 200 $m^2$ vendue pour 500 000$€$. \n",
    "Ces deux points constitueront notre *ensemble de données ou d'entraînement*. \n",
    "Dans ce TP, les unités de taille sont 100 $m^2$ et les unités de prix sont des milliers d'euros.\n",
    "\n",
    "\n",
    "| Superficie (100 $m^2$)  | Prix (1000s euros ) |\n",
    "| ------------------| ------------------------ |\n",
    "| 1.0              | 300                      |\n",
    "| 2.0               | 500                      |\n",
    "\n",
    "On aimerait construire  un modèle de régression linéaire pour ces deux points, afin de pouvoir prédire le prix d'autres maisons - par exemple, une maison de 120 m²."
   ]
  },
  {
   "cell_type": "markdown",
   "id": "2ed53d8c-27ac-4fbf-b7b4-978ab3dcea55",
   "metadata": {},
   "source": [
    "### Création des données x_train et y_train "
   ]
  },
  {
   "cell_type": "code",
   "execution_count": 3,
   "id": "T4C9Fvuhgh5L",
   "metadata": {
    "colab": {
     "base_uri": "https://localhost:8080/"
    },
    "executionInfo": {
     "elapsed": 234,
     "status": "ok",
     "timestamp": 1688034181210,
     "user": {
      "displayName": "Mohand Boughanem",
      "userId": "11156155735843474973"
     },
     "user_tz": -120
    },
    "id": "T4C9Fvuhgh5L",
    "outputId": "4364abe0-91fd-42eb-a30e-76379920fa1c",
    "pycharm": {
     "name": "#%%\n"
    }
   },
   "outputs": [
    {
     "name": "stdout",
     "output_type": "stream",
     "text": [
      "x_train = [1. 2.]\n",
      "y_train = [300. 500.]\n"
     ]
    }
   ],
   "source": [
    "# x_train varibles d'entrée (les caractéristiques)\n",
    "# y_train est le target \n",
    "\n",
    "x_train = np.array([1.0, 2.0])\n",
    "y_train = np.array([300.0, 500.0])\n",
    "print(f\"x_train = {x_train}\")\n",
    "print(f\"y_train = {y_train}\")"
   ]
  },
  {
   "cell_type": "code",
   "execution_count": 4,
   "id": "cfc18e81",
   "metadata": {},
   "outputs": [
    {
     "data": {
      "image/png": "[encoded data removed]",
      "text/plain": [
       "<Figure size 640x480 with 1 Axes>"
      ]
     },
     "metadata": {},
     "output_type": "display_data"
    }
   ],
   "source": [
    "#On peut aussi créer automatiquement un échantillon d e m exemples, les valeurs sont espacées de 5\n",
    "np.random.seed(5)\n",
    "m = 10 # création de 10 échantillons\n",
    "x_train_m = np.linspace(0, 5, m).reshape(m,1)\n",
    "y_train_m = x_train_m + np.random.randn(m, 1)\n",
    "\n",
    "# tracer les points\n",
    "plt.scatter(x_train_m, y_train_m)\n",
    "plt.show()"
   ]
  },
  {
   "cell_type": "markdown",
   "id": "0CZyXQOlgh5M",
   "metadata": {
    "id": "0CZyXQOlgh5M",
    "pycharm": {
     "name": "#%% md\n"
    }
   },
   "source": [
    "### Nombre d'exemples \n",
    "On utilisera `m` pour indiquer le nombre d'exemples d'apprentissage. \n",
    "Les tableaux Numpy ont un paramètre `.shape`. `x_train.shape` renvoie un tuple python avec une entrée pour chaque dimension. \n",
    "`x_train.shape[0]` renvoie le nombre d'exemples."
   ]
  },
  {
   "cell_type": "markdown",
   "id": "509b0fbe",
   "metadata": {
    "tags": []
   },
   "source": [
    "### Questions : \n",
    "Ecrire le code python (utiliser la fonction shape) qui permet d'afficher la dimension du tableau d'entrainement (X_train) et le nombre d'exemples d'entrainement ($m$)"
   ]
  },
  {
   "cell_type": "code",
   "execution_count": 5,
   "id": "bF7maHtIgh5N",
   "metadata": {
    "colab": {
     "base_uri": "https://localhost:8080/"
    },
    "executionInfo": {
     "elapsed": 357,
     "status": "ok",
     "timestamp": 1688034220209,
     "user": {
      "displayName": "Mohand Boughanem",
      "userId": "11156155735843474973"
     },
     "user_tz": -120
    },
    "id": "bF7maHtIgh5N",
    "outputId": "d13e21fd-ab4a-443f-bf27-7b7132ae3146",
    "pycharm": {
     "name": "#%%\n"
    }
   },
   "outputs": [
    {
     "name": "stdout",
     "output_type": "stream",
     "text": [
      "2\n"
     ]
    }
   ],
   "source": [
    "# m est le nombre d'exemples\n",
    "m = x_train.shape[0]\n",
    "print(m)\n",
    "\n"
   ]
  },
  {
   "cell_type": "markdown",
   "id": "opEYy6-vgh5N",
   "metadata": {
    "id": "opEYy6-vgh5N",
    "pycharm": {
     "name": "#%% md\n"
    }
   },
   "source": [
    "On peut également utiliser la fonction Python `len()` comme indiqué ci-dessous."
   ]
  },
  {
   "cell_type": "code",
   "execution_count": 6,
   "id": "kdxBPRPTgh5O",
   "metadata": {
    "id": "kdxBPRPTgh5O",
    "outputId": "46399196-a383-4def-9dcf-76628bb6975e",
    "pycharm": {
     "name": "#%%\n"
    }
   },
   "outputs": [
    {
     "name": "stdout",
     "output_type": "stream",
     "text": [
      "Number of training examples is: 2\n"
     ]
    }
   ],
   "source": [
    "# m est le nombre d'exemples de training\n",
    "m = len(x_train)\n",
    "print(f\"Number of training examples is: {m}\")"
   ]
  },
  {
   "cell_type": "markdown",
   "id": "_bbZjKW3gh5O",
   "metadata": {
    "id": "_bbZjKW3gh5O",
    "pycharm": {
     "name": "#%% md\n"
    }
   },
   "source": [
    "### Exemple d'entrainement $x^i$, $y^i$\n",
    "\n",
    "On utilise $(x^{(i)}$, $y^{(i)}$) pour désigner le $i^{ième}$ exemple d'apprentissage. <br>\n",
    "Comme Python est indexé par zéro, (x $^{(0)}$, y $^{(0)}$) est (1.0, 300.0) et (x $^{(1)}$, y $^{(1)}$) est (2.0, 500.0).\n",
    "\n",
    "Pour accéder à une valeur dans un tableau Numpy, on indexe le tableau avec le décalage souhaité. \n",
    "Par exemple, la syntaxe pour accéder à l'emplacement zéro de `x_train` est `x_train[0]`.\n",
    "Exécutez le bloc de code suivant pour obtenir le $i^{th}$ exemple d'entraînement."
   ]
  },
  {
   "cell_type": "code",
   "execution_count": 7,
   "id": "BTB-p1Fugh5O",
   "metadata": {
    "id": "BTB-p1Fugh5O",
    "outputId": "547d9edd-4cc3-46b3-e16f-5228cfeab6e9",
    "pycharm": {
     "name": "#%%\n"
    }
   },
   "outputs": [
    {
     "name": "stdout",
     "output_type": "stream",
     "text": [
      "(x^(0), y^(0)) = (1.0, 300.0)\n"
     ]
    }
   ],
   "source": [
    "i = 0 # changer i metre pour visuaiser (x^1, y^1)\n",
    "\n",
    "x_i = x_train[i]\n",
    "y_i = y_train[i]\n",
    "print(f\"(x^({i}), y^({i})) = ({x_i}, {y_i})\")"
   ]
  },
  {
   "cell_type": "markdown",
   "id": "9jtSFQP4gh5O",
   "metadata": {
    "id": "9jtSFQP4gh5O",
    "pycharm": {
     "name": "#%% md\n"
    }
   },
   "source": [
    "### Tracé des données\n",
    "On peut tracer ces deux points en utilisant la fonction `scatter()` de la bibliothèque `matplotlib` (vu précedemment).<br>\n",
    "Les arguments de la fonction `marker` et `c` affichent les points sous forme de croix rouges (la valeur par défaut est le point bleu)."
   ]
  },
  {
   "cell_type": "code",
   "execution_count": 8,
   "id": "PSgC5vRqgh5O",
   "metadata": {
    "id": "PSgC5vRqgh5O",
    "outputId": "fe7c5b65-5f9e-438a-ceaa-fa325076fcea",
    "pycharm": {
     "name": "#%%\n"
    }
   },
   "outputs": [
    {
     "data": {
      "image/png": "[encoded data removed]",
      "text/plain": [
       "<Figure size 640x480 with 1 Axes>"
      ]
     },
     "metadata": {},
     "output_type": "display_data"
    }
   ],
   "source": [
    "# Plot the data points\n",
    "plt.scatter(x_train, y_train, marker='x', c='r')\n",
    "# Set the title\n",
    "plt.title(\"Prix logts\")\n",
    "# Set the y-axis label\n",
    "plt.ylabel('Prix (en 1000 euros)')\n",
    "# Set the x-axis label\n",
    "plt.xlabel('Superficie)')\n",
    "plt.show()"
   ]
  },
  {
   "cell_type": "markdown",
   "id": "957f5203-1745-45fb-b9ee-ae52d49335f8",
   "metadata": {
    "tags": []
   },
   "source": [
    "## Question \n",
    "On peut tracer la courbe en utilisant des lignes (couleur bleue, les points marqués X)."
   ]
  },
  {
   "cell_type": "code",
   "execution_count": 9,
   "id": "71d2a917-d571-409e-bb3d-cee41b3eedc5",
   "metadata": {},
   "outputs": [
    {
     "data": {
      "image/png": "[encoded data removed]",
      "text/plain": [
       "<Figure size 640x480 with 1 Axes>"
      ]
     },
     "metadata": {},
     "output_type": "display_data"
    }
   ],
   "source": [
    "# Plot the data points\n",
    "X = np.linspace(x_train[0], x_train[1]) \n",
    "Y = np.linspace(y_train[0], y_train[1])\n",
    "plt.plot(X,Y)\n",
    "plt.show( )"
   ]
  },
  {
   "cell_type": "markdown",
   "id": "srSmkIGggh5Q",
   "metadata": {
    "id": "srSmkIGggh5Q",
    "pycharm": {
     "name": "#%% md\n"
    }
   },
   "source": [
    "<a name=\"2\"></a>\n",
    "## 2- Le modèle (Fonction hypothèse)\n",
    "\n",
    "[//]: <> (<img align=\"left\" src=\"../images/C1_W1_L3_S1_model.png\"     style=\" width:380px; padding: 10px; \" >)\n",
    "Comme décrit dans le cours, la fonction modèle pour la régression linéaire (qui est une fonction qui passe de `x` à `y`) est représentée par\n",
    "$$ f_{w,b}(x^{(i)}) = wx^{(i)} + b \\tag{1}$$\n",
    "La courbe change en fonction des valeurs  $w$ et $b$ . <br/> \n",
    "Essayons de voir la forme de la courbe, commençons par $w = 100$ et $b = 100$.\n",
    "On garde non deux points: \n",
    "- **x_train = np.array([1.0, 2.0])**<br>\n",
    "- **y_train = np.array([300.0, 500.0])**"
   ]
  },
  {
   "cell_type": "code",
   "execution_count": 14,
   "id": "wgP3u79Vgh5Q",
   "metadata": {
    "id": "wgP3u79Vgh5Q",
    "outputId": "d4623fa2-ee4d-40d3-f13a-e8db370ff237",
    "pycharm": {
     "name": "#%%\n"
    }
   },
   "outputs": [
    {
     "name": "stdout",
     "output_type": "stream",
     "text": [
      "w: 200\n",
      "b: 200\n"
     ]
    }
   ],
   "source": [
    "w = 200\n",
    "b = 200\n",
    "x_train = np.array([1.0, 2.0])\n",
    "y_train = np.array([300.0, 500.0])\n",
    "print(f\"w: {w}\")\n",
    "print(f\"b: {b}\")"
   ]
  },
  {
   "cell_type": "markdown",
   "id": "959c2333-4463-497a-bc13-e63e265e3430",
   "metadata": {
    "id": "9Qmuj0ZGgh5Q",
    "pycharm": {
     "name": "#%% md\n"
    }
   },
   "source": [
    "#### Question :\n",
    "\n",
    "Ecrire la fonction  qui renvoie  la valeur de $f_{w,b}(x^{(i)})$ pour nos deux points de données. <br>\n",
    "Vous pouvez l'écrire explicitement pour chaque point de données sous la forme -\n",
    "- pour  $x^{(0)}$, `f_wb = w * x[0] + b`\n",
    "- pour $x^{(1)}$, `f_wb = w * x[1] + b`\n",
    "\n",
    "Pour un grand nombre de points de données, cela peut devenir lourd et répétitif. A la place, vous pouvez (devez) calculer la sortie en utilisant une boucle `for`. <br>\n",
    "\n",
    "**Note** : La description de l'argument `(ndarray (m,))` décrit un tableau Numpy à n dimensions de forme (m,). \n",
    "\n",
    "> **Note**: `np.zero(n)` retourne un vecteur de n zéros\n"
   ]
  },
  {
   "cell_type": "code",
   "execution_count": 29,
   "id": "NhlgFxgqgh5Q",
   "metadata": {
    "id": "NhlgFxgqgh5Q",
    "pycharm": {
     "name": "#%%\n"
    }
   },
   "outputs": [],
   "source": [
    "def compute_model_output(x, w, b):\n",
    "    \"\"\"\n",
    "    Computes the prediction of a linear model\n",
    "    Args:\n",
    "      x (ndarray (m,)): Data, m examples\n",
    "      w,b (scalar)    : model parameters\n",
    "    Returns\n",
    "      y (ndarray (m,)): target values\n",
    "    \"\"\"\n",
    "      \n",
    "    return w*x+b # renvoie le résultat de le vecteur comportant les résultats de f"
   ]
  },
  {
   "cell_type": "markdown",
   "id": "dYxFbXlugh5Q",
   "metadata": {
    "id": "dYxFbXlugh5Q",
    "pycharm": {
     "name": "#%% md\n"
    }
   },
   "source": [
    "### Questions : \n",
    "Ecrire le code qui permet :\n",
    "- Appel de la fonction  `compute_model_output` \n",
    "- plot le modèle prédit \n",
    "- plot les points (des exemples)\n",
    "- +légende \n"
   ]
  },
  {
   "cell_type": "code",
   "execution_count": 31,
   "id": "qnETZInngh5Q",
   "metadata": {
    "id": "qnETZInngh5Q",
    "outputId": "190d61a9-ec20-4993-c6d3-2989352f4297",
    "pycharm": {
     "name": "#%%\n"
    }
   },
   "outputs": [
    {
     "data": {
      "image/png": "[encoded data removed]",
      "text/plain": [
       "<Figure size 640x480 with 1 Axes>"
      ]
     },
     "metadata": {},
     "output_type": "display_data"
    }
   ],
   "source": [
    "# Appel de la fonction compute_model_output\n",
    "y_pred = []\n",
    "y_pred.append(compute_model_output(x_train[0], 200, 100))\n",
    "y_pred.append(compute_model_output(x_train[1], 200, 100))\n",
    "# Tracé des points d'exemples\n",
    "plt.scatter(x_train, y_train, color='red', marker='x', label='Données réelles')\n",
    "\n",
    "# Tracé du modèle prédit (ligne)\n",
    "plt.plot(x_train, y_pred, color='blue', label='Modèle prédit')\n",
    "\n",
    "# Ajout des labels et de la légende\n",
    "plt.title(\"Prix des logements - Régression linéaire\")\n",
    "plt.xlabel(\"Superficie (100 m²)\")\n",
    "plt.ylabel(\"Prix (en 1000 €)\")\n",
    "plt.legend()\n",
    "plt.show()"
   ]
  },
  {
   "cell_type": "markdown",
   "id": "wEb3bfgwgh5Q",
   "metadata": {
    "id": "wEb3bfgwgh5Q",
    "pycharm": {
     "name": "#%% md\n"
    }
   },
   "source": []
  },
  {
   "cell_type": "markdown",
   "id": "KmawkzyPgh5Q",
   "metadata": {
    "id": "KmawkzyPgh5Q",
    "pycharm": {
     "name": "#%% md\n"
    }
   },
   "source": [
    "<details>\n",
    "<summary>\n",
    "    <font size='3', color='darkgreen'><b>Constat</b></font>\n",
    "</summary>\n",
    "    <p>\n",
    "    <ul>\n",
    "        <li>!!! Comme vous pouvez le voir, les valeurs $w = 100$ et $b = 100$ ne donnent pas de ligne qui correspond à nos données.\n",
    "\n",
    "Essayez  avec différentes valeurs de $w$ et $b$. \n",
    "Quelles devraient être les valeurs pour obtenir une ligne qui correspond à nos données ?<br>\n",
    "\n",
    "            \n",
    "Essayez $w = 200$ and $b = 100$ </li>\n",
    "    </ul>\n",
    "    </p>"
   ]
  },
  {
   "cell_type": "markdown",
   "id": "OJYUVV0rgh5Q",
   "metadata": {
    "id": "OJYUVV0rgh5Q",
    "pycharm": {
     "name": "#%% md\n"
    }
   },
   "source": [
    "<a name=\"3\"></a>\n",
    "## 3- Prédiction\n",
    "Maintenant que nous disposons d'un modèle, nous pouvons l'utiliser pour faire notre prédiction initiale. Prédisons le prix d'une maison de 120 $m^2$."
   ]
  },
  {
   "cell_type": "code",
   "execution_count": 32,
   "id": "709f6487-b061-47b3-bdf3-f43c85031d0d",
   "metadata": {
    "id": "-76D3YZ7gh5R",
    "outputId": "db065f56-77a3-41c5-f601-b74cb41e6cac",
    "pycharm": {
     "name": "#%%\n"
    }
   },
   "outputs": [
    {
     "name": "stdout",
     "output_type": "stream",
     "text": [
      "€340 mille euros\n"
     ]
    }
   ],
   "source": [
    "w = 200\n",
    "b = 100\n",
    "x_i = 1.2\n",
    "cost_200 = w * x_i + b\n",
    "\n",
    "print(f\"€{cost_200:.0f} mille euros\")"
   ]
  },
  {
   "cell_type": "markdown",
   "id": "1f947a77-65b2-40a2-ba19-ffcd814e2c70",
   "metadata": {
    "tags": []
   },
   "source": [
    "## Exercice \n",
    "Reécrire la fonction du modèle (`compute_model_output()`) dans le cas ou \n",
    "ou le dataset d'entraînement possède n variables. Testez la fonction pour une valeur de $n$ donnée.\n"
   ]
  },
  {
   "cell_type": "code",
   "execution_count": null,
   "id": "666c0959-5a3f-4fda-9c87-02d4b6f1b8ef",
   "metadata": {},
   "outputs": [],
   "source": [
    "def compute_model_output(x, w, b):\n",
    "    f_wb = []\n",
    "    for X in x:\n",
    "        f_wb.append(w * X + b)  \n",
    "    return f_wb"
   ]
  }
 ],
 "metadata": {
  "colab": {
   "provenance": []
  },
  "kernelspec": {
   "display_name": "Python 3",
   "language": "python",
   "name": "python3"
  },
  "language_info": {
   "codemirror_mode": {
    "name": "ipython",
    "version": 3
   },
   "file_extension": ".py",
   "mimetype": "text/x-python",
   "name": "python",
   "nbconvert_exporter": "python",
   "pygments_lexer": "ipython3",
   "version": "3.12.7"
  },
  "toc-autonumbering": false
 },
 "nbformat": 4,
 "nbformat_minor": 5
}
