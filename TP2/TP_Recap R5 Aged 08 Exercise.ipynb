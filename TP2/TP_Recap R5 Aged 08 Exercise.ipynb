{
 "cells": [
  {
   "cell_type": "markdown",
   "id": "cdb3c8d0-911f-4a46-a067-d2a555b93bab",
   "metadata": {},
   "source": [
    "# TP2  Exercice : récap. (TP à rendre sur Moodle).\n",
    "## Exercice  1 \n",
    "Ecrire le code qui permet de trouver le modèle (les meilleures valeurs de w et b) pour les données du dataset houses.\n",
    "Reprendre toutes les étages de l'algrithme (voir ci dessous).\n",
    "\n",
    "On le fait pour les deux cas suivants :\n",
    "\n",
    "- Cas 1- On reste sur une variable par exemple prédire le prix de la maison en fonction de sa supérficie.\n",
    "- Cas 2- Prédire le prix en fonction de tous les critères.\n",
    "\n",
    "Pour chacun des cas : \n",
    "- Utiliser uniquement les 70 premières lignes du dataset pour l'entrainement \n",
    "- Identifier les meilleures valeurs des paramètres du modèle.\n",
    "- Tracer la courbe de la fonction coût en fonction des itérations.\n",
    "- Calculer les prédictions sur les données restantes (30 dernières)  \n",
    "- Tracer les courbes permenttant de visualiser les valeurs prédites versus les bonnes valeurs sur les données de test?\n"
   ]
  },
  {
   "cell_type": "markdown",
   "id": "3d96c3b5-082f-4863-8fad-3567b2f7f54e",
   "metadata": {},
   "source": [
    "Votre code doit suivre les étapes suivantes :\n",
    "- 1. Le dataset : chargement et visualisation des données\n",
    "- 2. Définition du modèle \n",
    "- 3. Calcul de la fonction coût\n",
    "- 4. Calcul des gradients\n",
    "- 5. Modification des paramètres (apprentissage).\n",
    "- 6. Visualiser les tracés utiles permmetant de vérifier si le modèle a bien appris (y_test versus y_prédit, y_train versus y_prédit, ....)\n",
    "    \n",
    "    "
   ]
  },
  {
   "cell_type": "markdown",
   "id": "f7d48a28-42de-4150-aff8-daf6bbb2140a",
   "metadata": {},
   "source": [
    "## Exercice 2 : régression polynomiale"
   ]
  },
  {
   "cell_type": "code",
   "execution_count": null,
   "id": "c714eb84-b615-46e0-8136-769c5158b65e",
   "metadata": {},
   "outputs": [],
   "source": []
  }
 ],
 "metadata": {
  "kernelspec": {
   "display_name": "Python 3 (ipykernel)",
   "language": "python",
   "name": "python3"
  },
  "language_info": {
   "codemirror_mode": {
    "name": "ipython",
    "version": 3
   },
   "file_extension": ".py",
   "mimetype": "text/x-python",
   "name": "python",
   "nbconvert_exporter": "python",
   "pygments_lexer": "ipython3",
   "version": "3.11.4"
  }
 },
 "nbformat": 4,
 "nbformat_minor": 5
}
