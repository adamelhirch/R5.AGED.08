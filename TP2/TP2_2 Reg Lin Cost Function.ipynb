{
 "cells": [
  {
   "cell_type": "markdown",
   "id": "1330070d",
   "metadata": {
    "pycharm": {
     "name": "#%% md\n"
    }
   },
   "source": [
    "# TP2- Régression linéaire \"from scratch\"\n",
    "## TP2-2.  Fonction coût"
   ]
  },
  {
   "cell_type": "markdown",
   "id": "f28e05ec",
   "metadata": {
    "pycharm": {
     "name": "#%% md\n"
    }
   },
   "source": [
    "## Objectifs\n",
    "Implémentation et exploration de la fonction  `cost` pour la régression linéaire avec une variable.\n"
   ]
  },
  {
   "cell_type": "code",
   "execution_count": null,
   "id": "dd2c7e23",
   "metadata": {
    "pycharm": {
     "name": "#%%\n"
    }
   },
   "outputs": [],
   "source": [
    "import numpy as np\n",
    "import matplotlib.pyplot as plt\n"
   ]
  },
  {
   "cell_type": "markdown",
   "id": "de36c974",
   "metadata": {
    "pycharm": {
     "name": "#%% md\n"
    }
   },
   "source": [
    "<a name=\"1\"></a>\n",
    "## 1-Le Dataset (la tâche) \n",
    "\n",
    "On reste sur le problème de prédiction des prix des logements en fonction de leur taille.  \n",
    "Utilisons les deux mêmes points de données que dans le laboratoire précédent - une maison de 1 000 $m^2$  s'est vendue *300 000* et une maison de *2 000* $m^2$  s'est vendue *500 000*.\n",
    "\n",
    "| Superficie (1000 $m^2$)     | prix (1000s euros) |\n",
    "| -------------------| ------------------------ |\n",
    "| 1                 | 300                      |\n",
    "| 2                 | 500                      |\n"
   ]
  },
  {
   "cell_type": "code",
   "execution_count": null,
   "id": "b200df93",
   "metadata": {
    "pycharm": {
     "name": "#%%\n"
    }
   },
   "outputs": [],
   "source": [
    "x_train = np.array([1.0, 2.0])           #(size in 1000 square feet)\n",
    "y_train = np.array([300.0, 500.0])           #(price in 1000s of dollars)"
   ]
  },
  {
   "cell_type": "markdown",
   "id": "71c20f50",
   "metadata": {
    "pycharm": {
     "name": "#%% md\n"
    },
    "tags": []
   },
   "source": [
    "<a name=\"1\"></a>\n",
    "## 2. Fonction coût\n",
    "Le coût ici désigne la fonction objective, elle mesure l'efficacité de notre modèle à prédire le prix cible de la maison, à ne pas confondre avec Le terme \"prix\"  utilisé pour les données relatives au logement.\n",
    "\n",
    "L'équation du coût avec une seule variable est la suivante :\n",
    "$$J(w,b) = \\frac{1}{2m} \\sum\\limits_{i = 0}^{m-1} (f_{w,b}(x^{(i)}) - y^{(i)})^2 \\tag{1}$$ \n",
    " \n",
    "où \n",
    "  $$f_{w,b}(x^{(i)}) = wx^{(i)} + b \\tag{2}$$\n",
    "- $f_{w,b}(x^{(i)})$ est notre prédiction pour l'exemple $i$ en utilisant les paramètres $w,b$.  \n",
    "- $(f_{w,b}(x^{(i)}) -y^{(i)})^2$ est la différence au carré entre la valeur cible $y^{(i)}$ et la prédiction $f_{w,b}(x^{(i)}$.   \n",
    "- Ces différences sont additionnées sur tous les $m$ exemples et divisées par `2m` pour produire le coût, $J(w,b)$.  \n",
    ">Remarque : dans les cours magistraux, les plages de sommation vont généralement de 1 à m, alors que le code va de 0 à m-1.\n"
   ]
  },
  {
   "cell_type": "markdown",
   "id": "8d64155a",
   "metadata": {
    "pycharm": {
     "name": "#%% md\n"
    }
   },
   "source": [
    "### Calcul du coût\n",
    "**Question** : Ecrire le code de la fonction qui calcule et renvoie (return) le coût total. "
   ]
  },
  {
   "cell_type": "code",
   "execution_count": null,
   "id": "12548cf2",
   "metadata": {
    "pycharm": {
     "name": "#%%\n"
    }
   },
   "outputs": [],
   "source": [
    "def compute_cost(x, y, w, b): \n",
    "    \"\"\"\n",
    "    Computes the cost function for linear regression.\n",
    "    \n",
    "    Args:\n",
    "      x (ndarray (m,)): Data, m examples \n",
    "      y (ndarray (m,)): target values\n",
    "      w,b (scalar)    : model parameters  \n",
    "    \n",
    "    Returns\n",
    "        total_cost (float): The cost of using w,b as the parameters for linear regression\n",
    "               to fit the data points in x and y\n",
    "    \"\"\"\n",
    "    # number of training examples\n",
    "    m = x.shape[0]  \n",
    "    cost_sum = 0 \n",
    "    \n",
    "    for i in range(m): \n",
    "        .....\n",
    "        .....\n",
    "        ....\n",
    "    return total_cost"
   ]
  },
  {
   "cell_type": "markdown",
   "id": "0d4822f9-d700-4094-b280-fac787a5f889",
   "metadata": {},
   "source": [
    "La fonction ci-dessous permet de tracer le graphe des prédictions et celui des vraies valeurs"
   ]
  },
  {
   "cell_type": "code",
   "execution_count": null,
   "id": "89dbbade",
   "metadata": {},
   "outputs": [],
   "source": [
    "# une fonction qui permet de tracer le graphe des prédictions et celui des vraies valeurs\n",
    "def my_plot(x_train, y_train,tmp_f_wb):\n",
    "    #desin du graphique\n",
    "    plt.plot(x_train, tmp_f_wb, c='b',label='Les prédictions')\n",
    "\n",
    "        # Plot the data points\n",
    "    plt.scatter(x_train, y_train, marker='x', c='r',label='Vraies valeurs')\n"
   ]
  },
  {
   "cell_type": "markdown",
   "id": "90c44d9c",
   "metadata": {
    "pycharm": {
     "name": "#%% md\n"
    }
   },
   "source": [
    "### Question :\n",
    "Essayons de trouver les bonnes valeurs de $w$ et $b$ par tatonnement \n",
    "L'objectif est de trouver les bons paramètres  $w,b$, du modèle c-a-d la $f_{w,b}(x) = wx + b$, avec les paramètres $w,b$<br>\n",
    "Ecrire le code (cellule ci-dessous) qui pemet :\n",
    "- de faire varier w dans un range *w_range = np.array([200-200,200+200]) avec des pas de 5 ($\\Delta{w}=5$)\n",
    "- On boucle : \n",
    "    - en calculant pour chaque $w$ le *cout*, *f_wb* puis on *plot* , les deux courbes \n",
    "- Condiction d'arrêt si le cout total est inférieur à une cetaine valeur par eempl 0.5"
   ]
  },
  {
   "cell_type": "code",
   "execution_count": null,
   "id": "cc60941d",
   "metadata": {
    "pycharm": {
     "name": "#%%\n"
    }
   },
   "outputs": [],
   "source": [
    "\n",
    "def compute_w_b(x_train, y_train):\n",
    "    w_range = np.array([200-200,200+200])\n",
    "    tmp_b = 100\n",
    "    print(len(w_range))\n",
    "    w_array = np.arange(*w_range, 5)\n",
    "    print('les valeurs de w_range sont: ', w_array)\n",
    "    cost = np.zeros_like(w_array)\n",
    "    for i in range(len(w_array)):   \n",
    "        #prendre une valeur de w\n",
    "        \n",
    "        # calculer le coût\n",
    "        \n",
    "        # calculer les nouvelles valeurs prédites pour l'ensemble x_train \n",
    "        \n",
    "        # dessiner les pints de départ (x_tran_ et y_train ainsi que les valeurs prédire\n",
    "        \n",
    "        if cost[i]<0.5 : \n",
    "            print ('les valeurs de w et b sont :', tmp_w, tmp_b)\n",
    "            break\n"
   ]
  },
  {
   "cell_type": "code",
   "execution_count": null,
   "id": "a79b054c-4b14-4502-9b31-486f402e6a61",
   "metadata": {
    "tags": []
   },
   "outputs": [],
   "source": [
    "def compute_model_output(x, w, b):\n",
    "    \"\"\"\n",
    "    Computes the prediction of a linear model\n",
    "    Args:\n",
    "      x (ndarray (m,)): Data, m examples\n",
    "      w,b (scalar)    : model parameters\n",
    "    Returns\n",
    "      y (ndarray (m,)): target values\n",
    "    \"\"\"\n",
    "    m = x.shape[0]\n",
    "    f_wb = np.zeros(m)\n",
    "    for i in range(m):\n",
    "        f_wb[i] = w * x[i] + b\n",
    "\n",
    "    return f_wb # renvoie le résultat de le vecteur comportant les résultats de f"
   ]
  },
  {
   "cell_type": "code",
   "execution_count": null,
   "id": "8530766e",
   "metadata": {},
   "outputs": [],
   "source": [
    "\n",
    "plt.figure() # Création d'une figure\n",
    " # Set the title\n",
    "plt.title(\"Prix\")\n",
    "# Set the y-axis label\n",
    "plt.ylabel('Prix (1000) euros)')\n",
    "# Set the x-axis label\n",
    "plt.xlabel('Superficie (100m2)')\n",
    "\n",
    "compute_w_b(x_train,y_train)\n",
    "plt.show()"
   ]
  },
  {
   "cell_type": "markdown",
   "id": "dee250af",
   "metadata": {
    "pycharm": {
     "name": "#%% md\n"
    }
   },
   "source": [
    "Le graphique contient quelques points qui méritent d'être mentionnés.\n",
    "- Le coût est minimisé lorsque $w = 200$, ce qui correspond aux résultats du TP précdent\n",
    "- Parce que la différence entre la cible et la pédiction est élevée au carré dans l'équation de coût, le coût augmente rapidement lorsque $w$ est trop grand ou trop petit.\n",
    "- L'utilisation des valeurs `w` et `b` sélectionnées par la minimisation du coût permet d'obtenir une droite qui s'ajuste parfaitement aux données."
   ]
  },
  {
   "cell_type": "markdown",
   "id": "25f2255e",
   "metadata": {
    "pycharm": {
     "name": "#%% md\n"
    }
   },
   "source": [
    "### Question :\n",
    "Examinons un scénario  avec quelques points de données supplémentaires. \n",
    "Cet ensemble de données comprend des points de données qui ne se situent pas sur la même ligne. \n",
    "- visualiser les points (Xtrain et y_train) (fait)\n",
    "- relancer le code permmetant de trouver les valeur de w et b et de tracer les courbes prédites. (fait)\n",
    "- quelles ont les valeurs trouvées pour w et b ?\n",
    "\n",
    "Qu'est-ce que cela signifie pour l'équation de coût ?<br>\n",
    "Pouvons-nous trouver $w$ et $b$ qui nous donneront un coût de 0 ?"
   ]
  },
  {
   "cell_type": "code",
   "execution_count": null,
   "id": "e3c66a39",
   "metadata": {
    "pycharm": {
     "name": "#%%\n"
    }
   },
   "outputs": [],
   "source": [
    "x_train = np.array([1.0, 1.7, 2.0, 2.5, 3.0, 3.2])\n",
    "y_train = np.array([250, 300, 480,  430,  630, 730])"
   ]
  },
  {
   "cell_type": "code",
   "execution_count": null,
   "id": "2d54fe22",
   "metadata": {},
   "outputs": [],
   "source": [
    "## réecrire le code \n",
    "\n",
    "plt.figure() # Création d'une figure\n",
    " # Set the title\n",
    "plt.title(\"Prix\")\n",
    "# Set the y-axis label\n",
    "plt.ylabel('Prix (1000) euros)')\n",
    "# Set the x-axis label\n",
    "plt.xlabel('Superficie (100m2)')\n",
    "\n",
    "compute_w_b(x_train,y_train)\n",
    "plt.show()"
   ]
  },
  {
   "cell_type": "markdown",
   "id": "533f2805",
   "metadata": {
    "pycharm": {
     "name": "#%% md\n"
    }
   },
   "source": [
    "COnstat ?"
   ]
  },
  {
   "cell_type": "markdown",
   "id": "26c0312c-ff80-4bf4-aaf5-51009f657f69",
   "metadata": {},
   "source": [
    "# Exercice\n",
    "On travaille sur le fichier houses.txt.\n",
    "\n",
    "Reprendre les codes  essayez de trouver les meilleures valeurs de w et b pour les données du dataset houses.\n",
    "On reste sur une variable par exemple prédire le prix d'une maison en fonction de sa supérficie.\n",
    "\n",
    "- tracer les courbes prédictions versus vraies valeurs (pour ls différentes valeurs de w et b.\n",
    "- quelles sont les meilleurs valeurs de paramèes du modèle."
   ]
  },
  {
   "cell_type": "markdown",
   "id": "ea2946fa",
   "metadata": {},
   "source": [
    "## En conclusion : Difficile de trouver les valeurs de w et b par tatonnement.\n",
    "### La solution est la descente du gradient (voir TP suivant)"
   ]
  },
  {
   "cell_type": "markdown",
   "id": "1089f255-ba72-443d-85a7-5a91718953a1",
   "metadata": {},
   "source": [
    "### Question supplémentaire\n",
    "- reécrire les codes des fonctions `compute_cost`, `compute_w_b`,`compute_model_output` qui prennent en compte plusieurs variables (caractéristiques) (la dernière fonction est censée avoir été écrite dans le TP précédent).\n"
   ]
  },
  {
   "cell_type": "code",
   "execution_count": null,
   "id": "a2437775-f215-4008-b832-e170413adfaa",
   "metadata": {},
   "outputs": [],
   "source": []
  }
 ],
 "metadata": {
  "kernelspec": {
   "display_name": "Python 3 (ipykernel)",
   "language": "python",
   "name": "python3"
  },
  "language_info": {
   "codemirror_mode": {
    "name": "ipython",
    "version": 3
   },
   "file_extension": ".py",
   "mimetype": "text/x-python",
   "name": "python",
   "nbconvert_exporter": "python",
   "pygments_lexer": "ipython3",
   "version": "3.11.4"
  },
  "toc-autonumbering": false
 },
 "nbformat": 4,
 "nbformat_minor": 5
}
