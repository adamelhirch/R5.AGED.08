{
 "cells": [
  {
   "cell_type": "markdown",
   "id": "29553b15-5e10-4f99-b813-2a69c8c9faa8",
   "metadata": {
    "colab_type": "text",
    "id": "yFK37edpc2z0"
   },
   "source": [
    "# TP 3 Apprentissage Supervisé avec Sklearn\n",
    "# TP 3.2. Classification  \n",
    "\n",
    "**Objectif** : construire son prremier programme de Machine learning, une régression et une classifiction, en utilisant les modules four,is par SKlearn.\n",
    "\n",
    "[Scikit-learn](https://scikit-learn.org/stable/index.html) offre une panoplie de méthodes d'apprentissage _ ce qui appelé estimateur. <br>\n",
    "Quelle que soit la classe de la méthode (Régression, SVM, Random Forest, KNN, .....), Sklearn offre la même interface d'utilisation.\n",
    "\n",
    "<figure>\n",
    "    <img src=\"../images/02_sklearn_algorithms.png\"  style=\"width:540px;height:200px;\" >\n",
    "</figure>"
   ]
  },
  {
   "cell_type": "markdown",
   "id": "273a80b4-019f-48f5-b5a4-f0823f922361",
   "metadata": {},
   "source": [
    "## Prise en main de SKlearn.\n",
    "L'utilisation de SKlearn demande l'appel du package **sklearn.le type de modèle**  peut pas besoin de tout le package, On peut se limiter à l'estimateur ou aux estimateurs que l'on souhaite utiliser par exemple : \n",
    "sklearn.linear_model. Les phases d'utilisation d'un estimateur (**Simple**) :\n",
    "1. importer le module comportant le modèle (l'estimateur) from **sklearn.linear_model import** le module par exemple  **LinearRegression**  \n",
    "2. Définir/choisir un estimateur avec ses paramètres : **model=LinearRegression (...)** : \n",
    "    - avec ses éventuels paramètres\n",
    "3. Entrainer le modèle sur les données X, y (divisées en 2 tableaux Numpy) : \n",
    "    -  **model.fit(X, y)**\n",
    "4. Evaluer le modèle ; cette étape n'est pas nécessaire, elle calcule la performance du modèle (précision). Elle permet juste de voir si le modèle a bien appris. Un score élevé --> on arrive a retrouver les bons y pour les X correspodants--> un score faible l'inverse (<span style=\"color:red\"> attention tout dépend de la métrique que l'on utilise)</span>\n",
    "    - **model.score(X, y)** --> Il existe une panoplie de fonctions de score --> Elle n'est pas nécessaire, elle in)\n",
    "4. Utiliser le modèle (pour prédire (inéferer) la valeur de nouvelles données)\n",
    "    - **model.predict(X)**\n"
   ]
  },
  {
   "cell_type": "markdown",
   "id": "64c3c736-4630-4b15-aed1-a97471060a89",
   "metadata": {
    "colab_type": "text",
    "id": "TiLDacOweJGj"
   },
   "source": [
    "# 1. Classification\n",
    "Cette seconde partie traite des probèmes de classification. \n",
    "Nous travaillerons sur des données appropriées. \n",
    "- Téléchager le fichier titanic. ce fichier donne les chance de survie d'une pérsonne en fonction d'un certains nombre de critères (age, sex, ...). Visulaiser les données de ce fichier.\n",
    "- Choisir un estimateur : le but est de prédire les chances de survie d'une personne en fonction des critères ci desssus."
   ]
  },
  {
   "cell_type": "markdown",
   "id": "ea79bf94-ce46-4082-90f6-e9b3517aa523",
   "metadata": {},
   "source": [
    "### Le Dataset"
   ]
  },
  {
   "cell_type": "code",
   "execution_count": null,
   "id": "52c1a319-cf82-4f84-96f0-7315fe43249f",
   "metadata": {
    "colab": {
     "base_uri": "https://localhost:8080/",
     "height": 204
    },
    "colab_type": "code",
    "id": "SO3lTzLNeFjx",
    "outputId": "d544b300-0bdb-49a8-e9d4-149bc2d31cbf",
    "tags": []
   },
   "outputs": [],
   "source": [
    "# le dataset titanic \n",
    "import pandas as pd \n",
    "titanic = pd.read_csv('../data/titanic.csv')\n",
    "\n",
    "# On prend juste une partie du fichier.\n",
    "titanic = titanic[['Survived', 'Pclass', 'Sex', 'Age']]\n",
    "#  on regrade les chance de Survived  en fonction des autres features.\n",
    "X_features=['Pclass', 'Sex', 'Age']\n",
    "titanic.dropna(axis=0, inplace=True)\n",
    "titanic['Sex'].replace(['male', 'female'], [0, 1], inplace=True)\n",
    "titanic.head()\n"
   ]
  },
  {
   "cell_type": "markdown",
   "id": "6820cfe2-6813-4ff7-a911-2c8ac0b24641",
   "metadata": {},
   "source": [
    "#### Préparation des données\n",
    "#### Question : \n",
    "Construite le X_train et le y. La colonne survived dans y et le reste dans X ?"
   ]
  },
  {
   "cell_type": "code",
   "execution_count": null,
   "id": "9284a597-46da-4eec-a7b4-efb7a2e3707c",
   "metadata": {
    "colab": {},
    "colab_type": "code",
    "id": "52gq2y2AekXO"
   },
   "outputs": [],
   "source": []
  },
  {
   "cell_type": "markdown",
   "id": "c6d3b740-6168-476f-a223-f0b85c449bcf",
   "metadata": {},
   "source": [
    "### Choix du moèle de classifieur ?\n",
    "- On va comparer deux modèles vus en cours : une regression logistique et un KNN."
   ]
  },
  {
   "cell_type": "code",
   "execution_count": null,
   "id": "5b0b301f-0992-438a-9557-28976aecbbfc",
   "metadata": {
    "colab": {},
    "colab_type": "code",
    "id": "cqHeWY4KeA2W"
   },
   "outputs": [],
   "source": [
    "#KNN\n"
   ]
  },
  {
   "cell_type": "code",
   "execution_count": null,
   "id": "591db448-f6a1-42af-a834-f78518100e02",
   "metadata": {},
   "outputs": [],
   "source": [
    "#regression logistique\n"
   ]
  },
  {
   "cell_type": "markdown",
   "id": "98ac2bda-c473-4907-a292-7c064d8efa81",
   "metadata": {},
   "source": [
    "### Entrainement des modèles et calcul de leur score de performance ?"
   ]
  },
  {
   "cell_type": "code",
   "execution_count": null,
   "id": "28414f31-c84d-45f9-8b6b-9018393db542",
   "metadata": {
    "colab": {
     "base_uri": "https://localhost:8080/",
     "height": 34
    },
    "colab_type": "code",
    "id": "k-pyGxmles41",
    "outputId": "5818300f-596a-410a-cb8f-eada9abec898"
   },
   "outputs": [],
   "source": [
    "#Logistic\n",
    "\n"
   ]
  },
  {
   "cell_type": "code",
   "execution_count": null,
   "id": "a06d71a6-7d6e-4f36-bea1-675a7bb8e15a",
   "metadata": {},
   "outputs": [],
   "source": [
    "#KNN\n",
    "\n"
   ]
  },
  {
   "cell_type": "markdown",
   "id": "e1318d08-72f3-4654-b6fb-3b5a86ed3cd9",
   "metadata": {
    "colab_type": "text",
    "id": "TLeWNuYMfdFG"
   },
   "source": [
    "### Estimation des prédictions ?\n",
    "Pour chacun des modèles calculer leurs prédictions ?"
   ]
  },
  {
   "cell_type": "code",
   "execution_count": null,
   "id": "5b6a0273-ee29-4b26-915b-7cdd40ee6ee3",
   "metadata": {},
   "outputs": [],
   "source": [
    "#Logistic\n",
    ".....\n",
    "\n",
    "# on peut aussi calculer laprobabilité de survie predict_proba\n",
    "proba=model_knn.predict_proba(X_train)\n",
    "print(\"proba\", proba)"
   ]
  },
  {
   "cell_type": "code",
   "execution_count": null,
   "id": "2167c486-e3ec-4175-84a6-bc08f234ed82",
   "metadata": {
    "colab": {},
    "colab_type": "code",
    "id": "PenJkj9Metw9"
   },
   "outputs": [],
   "source": [
    "#KNN\n",
    ".....\n",
    "\n",
    "# on peut aussi calculer laprobabilité de survie predict_proba\n",
    "proba=model_knn.predict_proba(X_train)\n",
    "\n",
    "print(\"proba\", proba)"
   ]
  },
  {
   "cell_type": "markdown",
   "id": "d84b8e6c-8c81-4512-ae35-dbf400fc06ae",
   "metadata": {},
   "source": [
    "### Visualiser les courbes valeurs réelles versus valeurs prédites par les deux estimateurs ?\n",
    "** le tracé est binaire x, y, il faut choisir la colonne que l'on visualise et la valeur de survie prédite)"
   ]
  },
  {
   "cell_type": "code",
   "execution_count": null,
   "id": "02d8dce9-7d1c-4474-a124-c508d5b00e04",
   "metadata": {},
   "outputs": [],
   "source": [
    "# plot predictions and targets vs original features    \n",
    "fig,ax=plt.subplots(1,3,figsize=(12,3),sharey=True)\n",
    "\n",
    "#pour chque colonne\n",
    "for i in range(len(ax)):\n",
    "    #figure colonne i (la première) versus les y cibles \n",
    "    ax[i].scatter(X_train[:,i],y_train, label = 'target')\n",
    "   \n",
    "    #figure prédictions avec régression\n",
    "    ...\n",
    "    \n",
    "    #figure prédictions avec knn\n",
    "    ...\n",
    "    \n",
    "    ax[i].set_xlabel(X_features[i])    \n",
    "    ax[0].set_ylabel(\"Chance de survie\"); ax[0].legend();\n",
    "    \n",
    "fig.suptitle(\"target versus prediction \")\n",
    "plt.show()"
   ]
  },
  {
   "cell_type": "markdown",
   "id": "327b0801-dd3c-42e3-8edb-e896ec54d7a2",
   "metadata": {
    "colab_type": "text",
    "id": "1Bv5FnyTfmZi"
   },
   "source": [
    "#  Exercice\n",
    "Écrire un code qui permet de trouver la meilleure valeur de de $k$ (n_neighbors) pour le modèle de KNeighborsClassifier.\n",
    "\n",
    "- faire une boucle sur plusieurs valeurs de k ( paramètre : *n_neighbors* de knn).\n",
    "  - entrainer le modèle \n",
    "  - calculer son score, puis le mettre dans une liste (on garde l'hisrorique des scores)\n",
    "  - sauvegarder le score et la valeur de $k$ donant le meilleur score  meilleur \n",
    "- **Plot**  les scores pour chaque valeur de $k$. "
   ]
  },
  {
   "cell_type": "code",
   "execution_count": null,
   "id": "2b8e2372-460a-4d2d-b48b-d88c24706c12",
   "metadata": {
    "colab": {
     "base_uri": "https://localhost:8080/",
     "height": 299
    },
    "colab_type": "code",
    "id": "jJ0iAJt9f8f2",
    "outputId": "d1ff75d1-4176-4723-d14c-8ff887efe610"
   },
   "outputs": [],
   "source": [
    "# SOLUTION\n",
    "\n"
   ]
  }
 ],
 "metadata": {
  "kernelspec": {
   "display_name": "Python 3 (ipykernel)",
   "language": "python",
   "name": "python3"
  },
  "language_info": {
   "codemirror_mode": {
    "name": "ipython",
    "version": 3
   },
   "file_extension": ".py",
   "mimetype": "text/x-python",
   "name": "python",
   "nbconvert_exporter": "python",
   "pygments_lexer": "ipython3",
   "version": "3.11.4"
  }
 },
 "nbformat": 4,
 "nbformat_minor": 5
}
