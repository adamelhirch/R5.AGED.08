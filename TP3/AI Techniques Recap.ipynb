{
 "cells": [
  {
   "cell_type": "markdown",
   "id": "46cdf82a-c841-4360-abdb-7a62e3bdb556",
   "metadata": {},
   "source": [
    "#### TP 4 - Exercice Récap \n",
    "Les algos d'apprentissage, régression ou classification, se basent sur plusieurs paramètres pour réaliser l'entrainement.  On y trouve en particulier\n",
    "- le type de penality : L1, L2, ... pour répondre au problème d'overfitting\n",
    "- le nombre d'itérations : max_iter , le nombre de fois que l'on fait passer les exemples\n",
    "- le solver :  optimiseur, le type d'algo utilisé pour modifier les paramètres, gradient descent (par exemple)\n",
    "\n",
    "Ces paramètres peuvent être explicìtés dans le modèle, par exemple la <span style=\"color:green\">LogisticRegression</span>\n",
    "\n",
    "```class sklearn.linear_model.LogisticRegression(penalty='l2', *, dual=False, tol=0.0001, C=1.0, fit_intercept=True, intercept_scaling=1, class_weight=None, random_state=None, solver='lbfgs', max_iter=100, multi_class='auto', verbose=0, warm_start=False, n_jobs=None, l1_ratio=None)```\n",
    "\n",
    "ou encore\n",
    "```class sklearn.linear_model.Ridge(alpha=1.0, *, fit_intercept=True, copy_X=True, max_iter=None, tol=0.0001, solver='auto', positive=False, random_state=None)```\n",
    " \n",
    " mais pas dans le modèle <span style=\"color:green\"> LinearRegression </span>\n",
    " \n",
    " ```class sklearn.linear_model.LinearRegression(*, fit_intercept=True, copy_X=True, n_jobs=None, positive=False)``` ne possède pas explictement ces paramètres on les trouve par contre dans la classe ```linear_model.Ridge```\n",
    "\n",
    "Les détails sont sur : [Scikit-learn](https://scikit-learn.org/stable/index.html). \n",
    "\n",
    "Plusieurs de ces hyperparamètres sont fixés par défaut. On s'intresse à trois d'entre eux dans le cadre de ce TP: la Panalité, le nombre d'itérations.\n",
    "\n",
    "- 1) Ecrire le code qui permet de réaliser une régression logistique sur les données du dataset iris, en prenant les conditions (hyperparamètres/options) suivantes\n",
    " - cas 1 : penalité: L2 et max_iter:100  et le solver : lbfgs\n",
    " - cas 2 : penalité: L1 et max_iter:1000  et le solver : liblinear\n",
    " \n",
    "- 2) Ecrire le code d'une régression linaire sur les données houses, en prenant les conditions suivantes :\n",
    "- pénalité : L1, max_iter:1000, et solver : auto\n",
    "\n"
   ]
  },
  {
   "cell_type": "code",
   "execution_count": null,
   "id": "112c7586-1d87-4bb9-b87c-858078fafbff",
   "metadata": {},
   "outputs": [],
   "source": []
  }
 ],
 "metadata": {
  "kernelspec": {
   "display_name": "Python 3 (ipykernel)",
   "language": "python",
   "name": "python3"
  },
  "language_info": {
   "codemirror_mode": {
    "name": "ipython",
    "version": 3
   },
   "file_extension": ".py",
   "mimetype": "text/x-python",
   "name": "python",
   "nbconvert_exporter": "python",
   "pygments_lexer": "ipython3",
   "version": "3.11.4"
  }
 },
 "nbformat": 4,
 "nbformat_minor": 5
}
