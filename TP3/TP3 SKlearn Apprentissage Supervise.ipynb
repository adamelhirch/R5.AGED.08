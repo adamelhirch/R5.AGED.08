{
 "cells": [
  {
   "cell_type": "markdown",
   "metadata": {
    "colab_type": "text",
    "id": "view-in-github"
   },
   "source": [
    "<a href=\"https://colab.research.google.com/github/MachineLearnia/Python-Machine-Learning/blob/master/20%20-%20Sklearn%20(les%20Bases).ipynb\" target=\"_parent\"><img src=\"https://colab.research.google.com/assets/colab-badge.svg\" alt=\"Open In Colab\"/></a>"
   ]
  },
  {
   "cell_type": "markdown",
   "metadata": {
    "colab_type": "text",
    "id": "yFK37edpc2z0"
   },
   "source": [
    "# TP3 Apprentissage Supervisé avec Sklearn\n",
    "# TP 3.1. Régression linéaire\n",
    "\n",
    "Nus allons réaliser nos premiers travaux pratiques en utilisant le framework \n",
    "[Scikit-learn](https://scikit-learn.org/stable/index.html). Celui-ci offre une panoplie de méthodes d'apprentissage _ ce qui appelé estimateur_. <br> **Je vous recommande d'y jeter un oeil.**\n",
    "\n",
    "\n",
    "Quelle que soit la classe de la méthode (Régression, SVM, Random Forest, KNN, .....), Sklearn offre la même interface d'utilisation.\n",
    "\n",
    "<figure>\n",
    "    <img src=\"../images/sklearn.png\"  style=\"width:640px;height:300px;\" >\n",
    "</figure>"
   ]
  },
  {
   "cell_type": "markdown",
   "metadata": {},
   "source": [
    "## Prise en main de SKlearn.\n",
    "L'utilisation de SKlearn demande l'appel du package *sklearn.le type de modèle*  peut pas besoin de tout le package, On peut se limiter à l'estimateur ou aux estimateurs que l'on souhaite utiliser par exemple : \n",
    "sklearn.linear_model. Les phases d'utilisation d'un estimateur (**Simple**) :\n",
    "1. Importer le module comportant le modèle (l'estimateur) from **sklearn.linear_model import** le module par exemple  **LinearRegression**  \n",
    "2. Définir/choisir un estimateur : **model=LinearRegression (...)**, avec ses éventuels paramètres\n",
    "3. Entrainer le modèle sur les données X, y (divisées en 2 tableaux Numpy) : \n",
    "    -  **model.fit(X, y)**\n",
    "4. Evaluer le modèle ; cette étape n'est pas nécessaire, elle permet d'évaluer la performance du modèle (précision). Elle permet juste de voir si le modèle a bien appris. Un score élevé --> on arrive a retrouver les bons y pour les X correspodants--> un score faible l'inverse (<span style=\"color:red\"> attention tout dépend de la métrique que l'on utilise)</span>\n",
    "    - **model.score(X, y)** --> Il existe une panoplie de fonctions de score --> Elle n'est pas nécessaire, elle in)\n",
    "4. Utiliser le modèle (pour prédire (inférer) la valeur de nouvelles données)\n",
    "    - **model.predict(X)**\n"
   ]
  },
  {
   "cell_type": "code",
   "execution_count": null,
   "metadata": {
    "colab": {
     "base_uri": "https://localhost:8080/",
     "height": 71
    },
    "colab_type": "code",
    "id": "DCAljzPhcdpO",
    "outputId": "5edfade1-9342-4ba5-8975-f4ddc92d75a1"
   },
   "outputs": [],
   "source": [
    "import numpy as np\n",
    "import matplotlib.pyplot as plt\n",
    "import random"
   ]
  },
  {
   "cell_type": "markdown",
   "metadata": {
    "colab_type": "text",
    "id": "UbURdA5ZdZd5"
   },
   "source": [
    "## 1. Régression linéaire sur des données générées aléatoirement"
   ]
  },
  {
   "cell_type": "markdown",
   "metadata": {},
   "source": [
    "### Le Dataset\n",
    "On génère des données aléatoirement (selon la loi normale randn (n correspond à la loi normale)) <br>\n",
    "On fait appel à une regression linéaire.\n",
    "- Création de 10 exemples à 1 variable et le label un simple y=X+valeur aléatoire. "
   ]
  },
  {
   "cell_type": "code",
   "execution_count": null,
   "metadata": {
    "colab": {
     "base_uri": "https://localhost:8080/",
     "height": 283
    },
    "colab_type": "code",
    "id": "6ShWbEJqdYKU",
    "outputId": "13ccaae7-16c7-4bf8-ac4c-def9e08a9bee"
   },
   "outputs": [],
   "source": [
    "np.random.seed(0)\n",
    "m = 10 # creation de 10 échantillons (exemples)\n",
    "X = np.linspace(0, 10, m).reshape(m,1)\n",
    "y = X + np.random.randn(m, 1)\n",
    "print(X)\n",
    "plt.scatter(X, y)"
   ]
  },
  {
   "cell_type": "markdown",
   "metadata": {},
   "source": [
    "### Choix du modèle\n",
    "Attention le choix du modèle dépend de la tâche que l'on veut entrainer (apprendre) : Regression/Classification et et de la forme des donnée. La visualisation des données est une étape importante pour le choix du type d'estimateur approprié"
   ]
  },
  {
   "cell_type": "code",
   "execution_count": null,
   "metadata": {
    "colab": {},
    "colab_type": "code",
    "id": "WFkeFbj-doir"
   },
   "outputs": [],
   "source": [
    "from sklearn.linear_model import LinearRegression\n",
    "model = LinearRegression()"
   ]
  },
  {
   "cell_type": "markdown",
   "metadata": {},
   "source": [
    "###  Entrainement et évaluation du modèle sur les mêmes données d'entrainement"
   ]
  },
  {
   "cell_type": "code",
   "execution_count": null,
   "metadata": {
    "colab": {
     "base_uri": "https://localhost:8080/",
     "height": 34
    },
    "colab_type": "code",
    "id": "c4yCQzEqdudw",
    "outputId": "4dddea23-4be0-47cc-d9f2-d630a8d357a7"
   },
   "outputs": [],
   "source": [
    "# entrainement du modele\n",
    "model.fit(X, y) \n",
    "\n",
    "# évaluation des performances : le coefficient de corrélation\n",
    "model.score(X, y) "
   ]
  },
  {
   "cell_type": "markdown",
   "metadata": {},
   "source": [
    "###  Calcul des prédictions "
   ]
  },
  {
   "cell_type": "code",
   "execution_count": null,
   "metadata": {},
   "outputs": [],
   "source": [
    "predictions=model.predict(X)"
   ]
  },
  {
   "cell_type": "markdown",
   "metadata": {},
   "source": [
    "### Questions:\n",
    "Représenter sous forme graphique les données d'entrainement (X,y) (sous forme de points ) ainsi que la courbe prédite. \n",
    "On **plot** une figure en lui fournissant les X de départs et les valeurs y predits par le modèle <br>\n",
    "On peut récuéprer les prédictions de tous les X dans **predictions = model.predict(X)**"
   ]
  },
  {
   "cell_type": "code",
   "execution_count": null,
   "metadata": {
    "colab": {
     "base_uri": "https://localhost:8080/",
     "height": 283
    },
    "colab_type": "code",
    "id": "d8J9kM8vd5X_",
    "outputId": "1a1590f3-e520-4f7a-d6e7-c28d9e64b99e"
   },
   "outputs": [],
   "source": [
    "# Réponse \n",
    "\n"
   ]
  },
  {
   "cell_type": "markdown",
   "metadata": {},
   "source": [
    "## 1.2 Régression non inéaire\n",
    "Le modèle linéaire ne  \"fit\" pas toujours toutes les données \n",
    "- générer un ensemble de données, X aléatoire et  $y=X^2$ (prendre $m=100$)\n",
    "- tracer les points ? --> plt.scatter(X, y)\n",
    "- réentrainer le modèle défini ci dessus (vous pourrez le réécrire ci-dessous).\n",
    "- tracer les points ainsi que la courbe prédite"
   ]
  },
  {
   "cell_type": "markdown",
   "metadata": {},
   "source": [
    "### Le dataset"
   ]
  },
  {
   "cell_type": "code",
   "execution_count": null,
   "metadata": {},
   "outputs": [],
   "source": [
    "# considérons un dataset\n",
    "np.random.seed(0)\n",
    "m = 100 # creation de 100 échantillons\n",
    "X = np.linspace(0, 10, m).reshape(m,1)\n",
    "y = X**2 + np.random.randn (m, 1)"
   ]
  },
  {
   "cell_type": "markdown",
   "metadata": {},
   "source": [
    "#### Visualiser les données plot()? "
   ]
  },
  {
   "cell_type": "code",
   "execution_count": null,
   "metadata": {},
   "outputs": [],
   "source": [
    "\n"
   ]
  },
  {
   "cell_type": "markdown",
   "metadata": {},
   "source": [
    "#### Choix et entrainement du modèle ?"
   ]
  },
  {
   "cell_type": "code",
   "execution_count": 2,
   "metadata": {},
   "outputs": [],
   "source": [
    "#solution\n",
    "#prendre un modèle LINEAIRE (le même que celui de ci-dessus).\n",
    "\n"
   ]
  },
  {
   "cell_type": "markdown",
   "metadata": {},
   "source": [
    "#### Visualisation résutats prédictions versus vraies labels (y_train) ?"
   ]
  },
  {
   "cell_type": "code",
   "execution_count": null,
   "metadata": {},
   "outputs": [],
   "source": []
  },
  {
   "cell_type": "markdown",
   "metadata": {},
   "source": [
    "##### La régression linéaire, **la ligne droite**, <span style=\"color:red\">n'est pas tout à fait adaptée </span>. La courbe des données à une forme parabolique $y=ax^2+bx+c$, forme non linéaire il faut trouver d'autres estimateurs (non linéaires)? \n",
    "\n",
    "<details>\n",
    "<summary>\n",
    "    <font size='3', color='darkgreen'><b>Conseil</b></font>\n",
    "</summary>\n",
    "    <p>\n",
    "    <ul>\n",
    "        <li>On peut prendre un estimateur approprié à la régression non linaire, essayez un autre modèle par exemple un modèle de SVM non linéaire : **from sklearn.svm import SVR** (Cf. l'image listant l'ensemble des estimateurs proposés par Scitkit-learn)  </li>\n",
    "    </ul>\n",
    "    </p>\n",
    "    \n"
   ]
  },
  {
   "cell_type": "code",
   "execution_count": null,
   "metadata": {},
   "outputs": [],
   "source": [
    "from sklearn.svm import SVR "
   ]
  },
  {
   "cell_type": "code",
   "execution_count": null,
   "metadata": {
    "tags": []
   },
   "outputs": [],
   "source": [
    "#Choix du model \n",
    "\n"
   ]
  },
  {
   "cell_type": "code",
   "execution_count": null,
   "metadata": {},
   "outputs": [],
   "source": [
    "# entrainement prédiction et visualisation vraies valeurs versus les valeurs prédites\n",
    "\n"
   ]
  },
  {
   "cell_type": "markdown",
   "metadata": {},
   "source": [
    "<details>\n",
    "<summary>\n",
    "    <font size='3', color='darkgreen'><b>Conseil</b></font>\n",
    "</summary>\n",
    "    <p>\n",
    "    <ul>\n",
    "        <li>La courbe au début et à la fin est bizarre. Il faut une régularisation prendre le modèle SVR avec C=100 par exemple.  </li>\n",
    "    </ul>\n",
    "    </p>\n",
    "    "
   ]
  },
  {
   "cell_type": "markdown",
   "metadata": {},
   "source": [
    "## 1.3 Régression linéaire sur de vraies données.\n",
    "Nous allons réutiliser des données réelles (fchier house)  :<br>\n",
    "**Dataset**\n",
    "| Superficie  | nb pièces  | Nb étages | Age | prix (1000s euros)  |   \n",
    "| ----------------| ------------------- |----------------- |--------------|----------------------- |  \n",
    "| 952             | 2                   | 1                | 65           | 271.5                  |  \n",
    "| 1244            | 3                   | 2                | 64           | 232                    |  \n",
    "| 1947            | 3                   | 2                | 17           | 509.8                  |  \n",
    "| ...             | ...                 | ...              | ...          | ...                    |\n",
    "\n"
   ]
  },
  {
   "cell_type": "markdown",
   "metadata": {},
   "source": [
    "#### Rappel : numpy (indexing et slicing)\n",
    "- data[:n, :m]  : découpe des données qui commencent à la première ligne et à la première colonne (valeurs par défaut) et se terminent à la nème ligne et à la mème colonne (exclusives) \n",
    "\n",
    "- data[1:3, 2:4]  découpe des données qui commencent à la deuxième ligne et à la troisième colonne (index 1: et 2:) et se terminent à la troisième ligne (le :3) et à la quatrième colonne (le :4) : \n"
   ]
  },
  {
   "cell_type": "markdown",
   "metadata": {},
   "source": [
    "### Le dataset"
   ]
  },
  {
   "cell_type": "code",
   "execution_count": null,
   "metadata": {},
   "outputs": [],
   "source": [
    "data = np.loadtxt(\"../data/houses.txt\", delimiter=',', skiprows=1)\n",
    "X_features = ['Superf.','Nb pièces','Etage','age']\n",
    "# récupérer toutes les lgnes data[:, et les 4 premières colonnes data[ ..,:4]\n",
    "X_train = data[:,:4]\n",
    "y_train = data[:,4]\n",
    "len(X_train)"
   ]
  },
  {
   "cell_type": "markdown",
   "metadata": {},
   "source": [
    "### Choix du modèle, entrainement, prédiction ?"
   ]
  },
  {
   "cell_type": "code",
   "execution_count": null,
   "metadata": {},
   "outputs": [],
   "source": [
    "# Choisir une régression linéaire\n",
    "\n",
    "from sklearn.linear_model import LinearRegression"
   ]
  },
  {
   "cell_type": "code",
   "execution_count": null,
   "metadata": {},
   "outputs": [],
   "source": [
    "# Entraiement, prédiction et score\n",
    "\n"
   ]
  },
  {
   "cell_type": "markdown",
   "metadata": {
    "tags": []
   },
   "source": [
    "### Afficher les valeurs des paramètres ?\n",
    "Pour afficher les paramètres $w$ et $b$ du modèle,qui sont je le rappelle des vacteurs <br>\n",
    "- **b = model.intercept_**\n",
    "- **w = model.coef_**"
   ]
  },
  {
   "cell_type": "code",
   "execution_count": null,
   "metadata": {},
   "outputs": [],
   "source": [
    "b_norm = \n",
    "w_norm = \n",
    "print(f\"model parameters:                   w: {w_norm}, b:{b_norm}\")"
   ]
  },
  {
   "cell_type": "markdown",
   "metadata": {
    "tags": []
   },
   "source": [
    "###  Tracer sous forme de points, (scatter), les valeurs prédites et les vraies valeurs pour chaque variable ?"
   ]
  },
  {
   "cell_type": "code",
   "execution_count": null,
   "metadata": {},
   "outputs": [],
   "source": [
    "# plot predictions and targets vs original features    \n",
    "fig,ax=plt.subplots(1,4,figsize=(12,3),sharey=True)\n",
    "\n",
    "print(len(ax))\n",
    "for i in range(len(ax)):\n",
    "    ax[i].scatter(X_train[:,i],y_train, label = 'target')\n",
    "    ax[i].set_xlabel(X_features[i])    \n",
    "    ax[i].scatter(X_train[:,i],y_pred,color='red', label = 'predict')\n",
    "ax[0].set_ylabel(\"Prix\"); ax[0].legend();\n",
    "fig.suptitle(\"target versus prediction \")\n",
    "plt.show()"
   ]
  },
  {
   "cell_type": "markdown",
   "metadata": {},
   "source": [
    "### Question complémentaire :\n",
    "- Tester d'autres  algos de régression linéaire\n",
    "Aller sur le site de Scikit-learn tester d'autres modèles par exemple\n",
    "SGDRegressor. Appuyez-vous vous sur les exemples fournis sur le site pour le choix des paramètres du modèle choisi.\n",
    "\n",
    "- Comparer deux algoritmes par exemple  LinearRegression et SGDRegressor avecun max_iter=1000) (regardez bien ces paramètres)"
   ]
  },
  {
   "cell_type": "code",
   "execution_count": null,
   "metadata": {},
   "outputs": [],
   "source": [
    "# Modèle de régression\n",
    "from sklearn.linear_model import SGDRegressor"
   ]
  }
 ],
 "metadata": {
  "colab": {
   "authorship_tag": "ABX9TyPrsB1/Z8APdONadrKuKH9L",
   "include_colab_link": true,
   "name": "Untitled16.ipynb",
   "provenance": []
  },
  "kernelspec": {
   "display_name": "Python 3 (ipykernel)",
   "language": "python",
   "name": "python3"
  },
  "language_info": {
   "codemirror_mode": {
    "name": "ipython",
    "version": 3
   },
   "file_extension": ".py",
   "mimetype": "text/x-python",
   "name": "python",
   "nbconvert_exporter": "python",
   "pygments_lexer": "ipython3",
   "version": "3.11.4"
  }
 },
 "nbformat": 4,
 "nbformat_minor": 4
}
